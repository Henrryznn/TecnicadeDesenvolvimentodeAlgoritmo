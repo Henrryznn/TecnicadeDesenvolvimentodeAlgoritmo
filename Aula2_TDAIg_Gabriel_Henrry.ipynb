{
  "nbformat": 4,
  "nbformat_minor": 0,
  "metadata": {
    "colab": {
      "provenance": [],
      "authorship_tag": "ABX9TyPPFdSdzO0ls3b1uu8LR4BP",
      "include_colab_link": true
    },
    "kernelspec": {
      "name": "python3",
      "display_name": "Python 3"
    },
    "language_info": {
      "name": "python"
    }
  },
  "cells": [
    {
      "cell_type": "markdown",
      "metadata": {
        "id": "view-in-github",
        "colab_type": "text"
      },
      "source": [
        "<a href=\"https://colab.research.google.com/github/Henrryznn/TecnicadeDesenvolvimentodeAlgoritmo/blob/main/Aula2_TDAIg_Gabriel_Henrry.ipynb\" target=\"_parent\"><img src=\"https://colab.research.google.com/assets/colab-badge.svg\" alt=\"Open In Colab\"/></a>"
      ]
    },
    {
      "cell_type": "code",
      "source": [
        "'''\n",
        "1. Elabore um programa que solicite ao usuário um número real e ao final imprima na tela se o\n",
        "número informado é maior que 10 (dez)\n",
        "'''\n",
        "num = float(input(\"Digite um número real: \"))\n",
        "if num > 10:\n",
        "    print(\"O número é maior que 10.\")\n"
      ],
      "metadata": {
        "colab": {
          "base_uri": "https://localhost:8080/"
        },
        "id": "tpQMxz3a-OZl",
        "outputId": "d8459e65-099f-463e-ea9e-23630e2d2053"
      },
      "execution_count": null,
      "outputs": [
        {
          "output_type": "stream",
          "name": "stdout",
          "text": [
            "Digite um número real: 50\n",
            "O número é maior que 10.\n"
          ]
        }
      ]
    },
    {
      "cell_type": "code",
      "source": [
        "'''\n",
        "2. Escreva um programa que solicite ao usuário um número real e ao final imprima na tela se\n",
        "o número informado é maior ou igual a dez ou menor que 10 (dez)\n",
        "'''\n",
        "num = float(input(\"digite um número real:\"))\n",
        "if num >= 10:\n",
        "  print(\"o número é maior ou igual a 10\")\n",
        "else:\n",
        "  print(\"o número é menor que 10\")"
      ],
      "metadata": {
        "colab": {
          "base_uri": "https://localhost:8080/"
        },
        "id": "F7gtEu3tAjU0",
        "outputId": "a07788ad-53fa-46f0-ee02-de808df452ff"
      },
      "execution_count": null,
      "outputs": [
        {
          "output_type": "stream",
          "name": "stdout",
          "text": [
            "digite um número real:10\n",
            "o número é maior ou igual a 10\n"
          ]
        }
      ]
    },
    {
      "cell_type": "code",
      "source": [
        "'''\n",
        "3. Elabore um algoritmo que solicite ao usuário um número real e ao final imprima na tela se o\n",
        "número informado é maior que dez, se é menor que dez, ou se é igual a dez\n",
        "'''\n",
        "num = float(input('Digite um número real:'))\n",
        "if num> 10:\n",
        "  print('maior que 10')\n",
        "elif num < 10:\n",
        "  print('menor que 10')\n",
        "else:\n",
        "  print('igual a 10')"
      ],
      "metadata": {
        "colab": {
          "base_uri": "https://localhost:8080/"
        },
        "id": "oEwiPlil-Oua",
        "outputId": "41d8466f-4563-4a35-8a4e-1a0f1b250bcd"
      },
      "execution_count": null,
      "outputs": [
        {
          "output_type": "stream",
          "name": "stdout",
          "text": [
            "Digite um número real:10\n",
            "igual a 10\n"
          ]
        }
      ]
    },
    {
      "cell_type": "code",
      "source": [
        "'''\n",
        "4. Elabore um algoritmo que solicite ao usuário um número real e ao final imprima na tela se o\n",
        "número informado é positivo, negativo ou nulo (zero)\n",
        "'''\n",
        "num = float(input('Digite um número real:'))\n",
        "if num > 0:\n",
        "  print('o número é positivo')\n",
        "elif num < 0:\n",
        "  print('o número é negativo')\n",
        "else:\n",
        "  print('o número é nulo (zero).')"
      ],
      "metadata": {
        "colab": {
          "base_uri": "https://localhost:8080/"
        },
        "id": "1iVC9sll-O2Q",
        "outputId": "cf492651-8795-4d80-fd65-77b0398448b5"
      },
      "execution_count": null,
      "outputs": [
        {
          "output_type": "stream",
          "name": "stdout",
          "text": [
            "Digite um número real:10\n",
            "o número é positivo\n"
          ]
        }
      ]
    },
    {
      "cell_type": "code",
      "source": [
        "'''\n",
        "5. Elabore um algoritmo que leia um número inteiro e imprima uma das mensagens: é múltiplo\n",
        "de 3, ou, não é múltiplo de 3\n",
        "'''\n",
        "num = int(input('digite um número inteiro:'))\n",
        "if num % 3 == 0:\n",
        "  print('é múltiplo de 3')\n",
        "else:\n",
        "  print('não é múltiplo de 3')"
      ],
      "metadata": {
        "colab": {
          "base_uri": "https://localhost:8080/"
        },
        "id": "iPxahEoK-PWA",
        "outputId": "e5df342e-457a-4c22-86c6-f80f0121a8ef"
      },
      "execution_count": null,
      "outputs": [
        {
          "output_type": "stream",
          "name": "stdout",
          "text": [
            "digite um número inteiro:10\n",
            "não é múltiplo de 3\n"
          ]
        }
      ]
    },
    {
      "cell_type": "code",
      "source": [
        "'''\n",
        "6. Refazer o exercício anterior, solicitando antes o múltiplo a ser testado\n",
        "'''\n",
        "num = int(input('digite um número inteiro:'))\n",
        "multiplo = int(input('digite o múltiplo:'))\n",
        "if num % multiplo == 0:\n",
        "  print(f'é múltiplo de {multiplo}')"
      ],
      "metadata": {
        "colab": {
          "base_uri": "https://localhost:8080/"
        },
        "id": "T9OXEnpU-Pds",
        "outputId": "65d799f5-2820-4492-f9ee-4b47191a49f5"
      },
      "execution_count": null,
      "outputs": [
        {
          "output_type": "stream",
          "name": "stdout",
          "text": [
            "digite um número inteiro:10\n",
            "digite o múltiplo:5\n",
            "é múltiplo de 5\n"
          ]
        }
      ]
    },
    {
      "cell_type": "code",
      "source": [
        "'''\n",
        "7. Desenvolva um algoritmo que classifique um número inteiro fornecido pelo usuário como\n",
        "par ou ímpar\n",
        "'''\n",
        "num = int(input('digite um número inteiro:'))\n",
        "if num % 2 == 0:\n",
        "  print('é par')\n",
        "else:\n",
        "  print('é ímpar')"
      ],
      "metadata": {
        "colab": {
          "base_uri": "https://localhost:8080/"
        },
        "id": "U_UHlKpd-PoI",
        "outputId": "a66c01fe-c625-4b69-efb1-4ad8dcd8689a"
      },
      "execution_count": null,
      "outputs": [
        {
          "output_type": "stream",
          "name": "stdout",
          "text": [
            "digite um número inteiro:10\n",
            "é par\n"
          ]
        }
      ]
    },
    {
      "cell_type": "code",
      "source": [
        "'''\n",
        "8. Elabore um algoritmo que leia um número, e se ele for maior do que 20, imprimir a metade\n",
        "desse número, caso contrário, imprimir o dobro do número\n",
        "'''\n",
        "num = int(input('digite um número:'))\n",
        "if num > 20:\n",
        "  print(f\"Metade do número:{num/2}\")\n",
        "else:\n",
        "  print(f\"Dobro do número:{num*2}\")"
      ],
      "metadata": {
        "colab": {
          "base_uri": "https://localhost:8080/"
        },
        "id": "0802mM3Q-Pwf",
        "outputId": "a450c318-da25-4608-e202-0f5a5063ed2c"
      },
      "execution_count": null,
      "outputs": [
        {
          "output_type": "stream",
          "name": "stdout",
          "text": [
            "digite um número:5\n",
            "Dobro do número:10\n"
          ]
        }
      ]
    },
    {
      "cell_type": "code",
      "source": [
        "'''\n",
        "9. Elabore um algoritmo que leia dois números inteiros e realize a adição; caso o resultado\n",
        "seja maior que 10, imprima o quadrado do resultado, caso contrário, imprima a metade dele\n",
        "'''\n",
        "n1=int(input(\"digite o primeiro número:\"))\n",
        "n2=int(input(\"digite o segundo número:\"))\n",
        "soma=n1+n2\n",
        "if soma > 10:\n",
        "  print(f\"Quadrado do resultado:{soma**2}\")\n",
        "else:\n",
        "  print(f\"Metade do resultado:{soma/2}\")"
      ],
      "metadata": {
        "colab": {
          "base_uri": "https://localhost:8080/"
        },
        "id": "oVnkhjL8-P4r",
        "outputId": "fca38eea-87a4-42e6-ab9b-c7044204c213"
      },
      "execution_count": null,
      "outputs": [
        {
          "output_type": "stream",
          "name": "stdout",
          "text": [
            "digite o primeiro número:5\n",
            "digite o segundo número:2\n",
            "Metade do resultado:3.5\n"
          ]
        }
      ]
    },
    {
      "cell_type": "code",
      "source": [
        "'''\n",
        "10. O sistema de avaliação de determinada disciplina é composto por três provas. A primeira\n",
        "prova tem peso 2, a segunda tem peso 3 e a terceira tem peso 5. Considerando que a\n",
        "média para aprovação é 6.0, faça um algoritmo para calcular a média final de um aluno\n",
        "desta disciplina e dizer se o aluno foi aprovado ou não\n",
        "'''\n",
        "n1=float(input(\"Nota da prova 1 (peso 2):\"))\n",
        "n2=float(input(\"Nota da prova 2 (peso 3):\"))\n",
        "n3=float(input(\"Nota da prova 3 (peso 5):\"))\n",
        "media=(n1*2+n2*3+n3*5)/10\n",
        "if media >= 6:\n",
        "  print(f\"Aluno aprovado.\")\n",
        "else:\n",
        "  print(f\"Aluno reprovado.\")"
      ],
      "metadata": {
        "colab": {
          "base_uri": "https://localhost:8080/"
        },
        "id": "DsYOd-hx-QEk",
        "outputId": "e7f32ee9-7b1b-4e85-bb32-ddcaace5eb3e"
      },
      "execution_count": null,
      "outputs": [
        {
          "output_type": "stream",
          "name": "stdout",
          "text": [
            "Nota da prova 1 (peso 2):5\n",
            "Nota da prova 2 (peso 3):1\n",
            "Nota da prova 3 (peso 5):5\n",
            "Aluno reprovado.\n"
          ]
        }
      ]
    },
    {
      "cell_type": "code",
      "source": [
        "'''\n",
        "11. Elabore um algoritmo que leia o nome e o peso de duas pessoas e imprima o nome da\n",
        "pessoa mais pesada\n",
        "'''\n",
        "nome1 = input(\"Nome da primeira pessoa: \")\n",
        "peso1 = float(input(\"Peso de \" + nome1 + \": \"))\n",
        "nome2 = input(\"Nome da segunda pessoa: \")\n",
        "peso2 = float(input(\"Peso de \" + nome2 + \": \"))\n",
        "if peso1 > peso2:\n",
        "    print(f\"{nome1} é mais pesado.\")\n",
        "elif peso2 > peso1:\n",
        "    print(f\"{nome2} é mais pesado.\")\n",
        "else:\n",
        "    print(\"Ambos têm o mesmo peso.\")"
      ],
      "metadata": {
        "colab": {
          "base_uri": "https://localhost:8080/"
        },
        "id": "z41nopA--QON",
        "outputId": "45241022-c714-4e26-eaba-d7d31431dfee"
      },
      "execution_count": null,
      "outputs": [
        {
          "output_type": "stream",
          "name": "stdout",
          "text": [
            "Nome da primeira pessoa: gab\n",
            "Peso de gab: 20\n",
            "Nome da segunda pessoa: ge\n",
            "Peso de ge: 20\n",
            "Ambos têm o mesmo peso.\n"
          ]
        }
      ]
    },
    {
      "cell_type": "code",
      "source": [
        "'''\n",
        "12. Elabore um algoritmo que indique se um número digitado está compreendido entre 20 e\n",
        "90, ou não\n",
        "'''\n",
        "num = int(input(\"Digite um número:\"))\n",
        "if 20 <= num <= 90:\n",
        "  print(\"O número está entre 20 e 90.\")\n",
        "else:\n",
        "  print(\"O número não está entre 20 e 90.\")"
      ],
      "metadata": {
        "colab": {
          "base_uri": "https://localhost:8080/"
        },
        "id": "pPXl9zPq-QWk",
        "outputId": "331aeacd-eed8-4738-83e4-bf36c7ca6a13"
      },
      "execution_count": null,
      "outputs": [
        {
          "output_type": "stream",
          "name": "stdout",
          "text": [
            "Digite um número:18\n",
            "O número não está entre 20 e 90.\n"
          ]
        }
      ]
    },
    {
      "cell_type": "code",
      "source": [
        "'''\n",
        "13. Elabore um algoritmo que leia dois números e imprima qual é maior, qual é menor, ou se\n",
        "são iguais\n",
        "'''\n",
        "num1 = float(input(\"Digite o primeiro número:\"))\n",
        "num2 = float(input(\"Digite o segundo número:\"))\n",
        "if num1 > num2:\n",
        "  print(f\"{num1} é maior que {num2}\")\n",
        "elif num2 > num1:\n",
        "  print(f\"{num2} é maior que {num1}\")\n",
        "else:\n",
        "  print(f\"{num1} e {num2} são iguais\")"
      ],
      "metadata": {
        "colab": {
          "base_uri": "https://localhost:8080/"
        },
        "id": "TA3ue1Zp-QfZ",
        "outputId": "c7b4b8fb-c358-4557-e58d-220fa7ad93bf"
      },
      "execution_count": null,
      "outputs": [
        {
          "output_type": "stream",
          "name": "stdout",
          "text": [
            "Digite o primeiro número:52\n",
            "Digite o segundo número:21\n",
            "52.0 é maior que 21.0\n"
          ]
        }
      ]
    },
    {
      "cell_type": "code",
      "source": [
        "'''\n",
        "14. Escreva um programa em linguagem C que solicite ao usuário a média para aprovação\n",
        "em um curso e em seguida solicite ao usuário o nome, sexo e as 03 notas do aluno e ao\n",
        "final imprima a frase: \"O aluno XXXXX foi aprovado com media YY\" considerando o gênero\n",
        "do(a) aluno(a) e se foi aprovado(a) ou reprovado(a)\n",
        "'''\n",
        "media_aprovacao = float(input(\"Digite a média mínima para aprovação: \"))\n",
        "nome = input(\"Digite o nome do aluno(a): \")\n",
        "sexo = input(\"Digite o sexo (M/F): \").upper()\n",
        "n1 = float(input(\"Digite a nota 1: \"))\n",
        "n2 = float(input(\"Digite a nota 2: \"))\n",
        "n3 = float(input(\"Digite a nota 3: \"))\n",
        "media = (n1 + n2 + n3) / 3\n",
        "\n",
        "aprovado = media >= media_aprovacao\n",
        "tratamento = \"O aluno\" if sexo == \"M\" else \"A aluna\"\n",
        "status = \"aprovado\" if aprovado else \"reprovado\"\n",
        "\n",
        "print(f\"{tratamento} {nome} foi {status} com média {media:.2f}\")"
      ],
      "metadata": {
        "colab": {
          "base_uri": "https://localhost:8080/"
        },
        "id": "YUMw1wsS-QnR",
        "outputId": "135ad71a-e863-4327-b456-b2b80b1d0b8d"
      },
      "execution_count": null,
      "outputs": [
        {
          "output_type": "stream",
          "name": "stdout",
          "text": [
            "Digite a média mínima para aprovação: 5\n",
            "Digite o nome do aluno(a): gab\n",
            "Digite o sexo (M/F): M\n",
            "Digite a nota 1: 5\n",
            "Digite a nota 2: 5\n",
            "Digite a nota 3: 5\n",
            "O aluno gab foi aprovado com média 5.00\n"
          ]
        }
      ]
    }
  ]
}
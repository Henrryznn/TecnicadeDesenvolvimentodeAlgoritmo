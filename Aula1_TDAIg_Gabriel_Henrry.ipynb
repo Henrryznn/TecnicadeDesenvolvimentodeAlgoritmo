{
  "nbformat": 4,
  "nbformat_minor": 0,
  "metadata": {
    "colab": {
      "provenance": [],
      "authorship_tag": "ABX9TyPiGIHsi+6vpGHj38eU5A8z",
      "include_colab_link": true
    },
    "kernelspec": {
      "name": "python3",
      "display_name": "Python 3"
    },
    "language_info": {
      "name": "python"
    }
  },
  "cells": [
    {
      "cell_type": "markdown",
      "metadata": {
        "id": "view-in-github",
        "colab_type": "text"
      },
      "source": [
        "<a href=\"https://colab.research.google.com/github/Henrryznn/TecnicadeDesenvolvimentodeAlgoritmo/blob/main/Aula1_TDAIg_Gabriel_Henrry.ipynb\" target=\"_parent\"><img src=\"https://colab.research.google.com/assets/colab-badge.svg\" alt=\"Open In Colab\"/></a>"
      ]
    },
    {
      "cell_type": "code",
      "execution_count": null,
      "metadata": {
        "id": "kp26MZNrPX33"
      },
      "outputs": [],
      "source": []
    },
    {
      "cell_type": "markdown",
      "source": [
        "Nome: Gabriel Henrry Silva De Oliveira\n",
        "\n",
        "Turma: Ciencia da Computação\n",
        "\n",
        "![images.png](data:image/png;base64,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)\n"
      ],
      "metadata": {
        "id": "JMsI3JVSQKtm"
      }
    },
    {
      "cell_type": "code",
      "source": [
        "1#Lita de Exercícios N° 01\n",
        "#1.Escreva um programa que apresente na tela a frase: \"Meu primeiro programa!!!\"\n",
        "print(\"Meu primeiro programa\")"
      ],
      "metadata": {
        "colab": {
          "base_uri": "https://localhost:8080/"
        },
        "id": "gS9rJNDDRALi",
        "outputId": "26c9eb41-4f3c-4ce9-c22a-d353f6d98dc6"
      },
      "execution_count": null,
      "outputs": [
        {
          "output_type": "stream",
          "name": "stdout",
          "text": [
            "Meu primeiro programa\n"
          ]
        }
      ]
    },
    {
      "cell_type": "code",
      "source": [
        "'''\n",
        "2. Escreva um programa que solicite ao usuário um número inteiro e ao final apresente na tela\n",
        "o número informado pelo usuário do programa\n",
        "\n",
        "'''\n",
        "numero_inteiro=int(input(\"Digite um número inteiro: \"))\n",
        "print(\"O número informado pelo usuário do programa é:\", numero_inteiro)"
      ],
      "metadata": {
        "id": "qRpvcIb8Z1cp",
        "colab": {
          "base_uri": "https://localhost:8080/"
        },
        "outputId": "2fca5b00-802d-4818-e865-cea8e3396b12"
      },
      "execution_count": null,
      "outputs": [
        {
          "output_type": "stream",
          "name": "stdout",
          "text": [
            "Digite um número inteiro: 20\n",
            "O número informado pelo usuário do programa é: 20\n"
          ]
        }
      ]
    },
    {
      "cell_type": "code",
      "source": [
        "'''\n",
        "3. Escreva um programa que solicite ao usuário um número inteiro e ao final apresente na tela\n",
        "o número informado da seguinte forma: \"Foi informado o valor: X\"\n",
        "\n",
        "'''\n",
        "numero = int(input(\"digite um nero inteiro:\"))\n",
        "print(\"Foi informado o valor:\", numero)\n"
      ],
      "metadata": {
        "colab": {
          "base_uri": "https://localhost:8080/"
        },
        "id": "dMhY2ovKcZS1",
        "outputId": "5df09ad8-0456-4241-807d-b756590a62a2"
      },
      "execution_count": null,
      "outputs": [
        {
          "output_type": "stream",
          "name": "stdout",
          "text": [
            "digite um nero inteiro:30\n",
            "Foi informado o valor: 30\n"
          ]
        }
      ]
    },
    {
      "cell_type": "code",
      "source": [
        "'''4. Escreva um programa que solicite ao usuário dois números inteiros e ao final apresente na\n",
        "tela os dois números informados da seguinte forma: \"Voce informou os numeros X e Y\"\n",
        "'''\n",
        "x = int(input(\"Digite o primeiro número inteiro: \"))\n",
        "y = int(input(\"Digite o segundo número inteiro: \"))\n",
        "\n",
        "print(f\"Você informou os números {x} e {y}\")\n"
      ],
      "metadata": {
        "id": "ZVDHvYwUKAMV"
      },
      "execution_count": null,
      "outputs": []
    },
    {
      "cell_type": "code",
      "source": [
        "'''5. Escreva um programa que solicite ao usuário um número real e ao final apresente na tela o\n",
        "número informado formatado com duas casas decimais da seguinte forma: \"Voce informou\n",
        "o numero X.YY\"\n",
        "'''\n",
        "num = float(input(\"Digite um número real: \"))\n",
        "\n",
        "print(f\"Você informou o número {num:.2f}\")\n"
      ],
      "metadata": {
        "id": "LybYfW-pKGdb"
      },
      "execution_count": null,
      "outputs": []
    },
    {
      "cell_type": "code",
      "source": [
        "'''6. Escreva um programa que solicite ao usuário a temperatura em graus Celsius e ao final\n",
        "apresente a temperatura correspondente em graus Farenheit. F = Celsius * 1.8 + 32\n",
        "'''\n",
        "celsius = float(input(\"Digite a temperatura em graus Celsius: \"))\n",
        "\n",
        "farenheit = celsius * 1.8 + 32\n",
        "\n",
        "print(f\"A temperatura em graus Farenheit é: {farenheit:.2f}\")"
      ],
      "metadata": {
        "id": "NPwlt69DKK6q"
      },
      "execution_count": null,
      "outputs": []
    },
    {
      "cell_type": "code",
      "source": [
        "'''7. Escreva um programa que solicite ao usuário um número inteiro e um número real e ao final\n",
        "apresente na tela os dois números informados formatando com duas casas decimais\n",
        "somente o número real da seguinte forma: \"Voce informou os numeros N e X.YY\"\n",
        "'''\n",
        "numero_inteiro = int(input(\"Digite um número inteiro: \"))\n",
        "numero_real = float(input(\"Digite um número real: \"))\n",
        "\n",
        "print(f\"Você informou os números {numero_inteiro} e {numero_real:.2f}\")"
      ],
      "metadata": {
        "id": "c6opwZhuKObz"
      },
      "execution_count": null,
      "outputs": []
    },
    {
      "cell_type": "code",
      "source": [
        "'''8. Escreva um programa que solicite ao usuário a primeira letra de seu nome e ao final\n",
        "apresente na tela a letra informada pelo usuário da seguinte forma: \"Voce digitou w\"\n",
        "'''\n",
        "letra = input(\"Digite a primeira letra do seu nome: \")\n",
        "\n",
        "print(f\"Você digitou {letra}\")"
      ],
      "metadata": {
        "id": "L53ia3p8KWCi"
      },
      "execution_count": null,
      "outputs": []
    },
    {
      "cell_type": "code",
      "source": [
        "'''9. Escreva um programa que solicite ao usuário o nome de sua cor preferida e ao final\n",
        "apresente na tela a cor informada pelo usuário da seguinte forma: \"Voce gosta da cor AAA\"\n",
        "'''\n",
        "cor = input(\"Digite o nome de sua cor preferida: \")\n",
        "\n",
        "print(f\"Você gosta da cor {cor}\")"
      ],
      "metadata": {
        "id": "Hddo3KCRKXuU"
      },
      "execution_count": null,
      "outputs": []
    },
    {
      "cell_type": "code",
      "source": [
        "'''10. Escreva um programa que solicite ao usuário o nome de uma verdura e uma fruta de sua\n",
        "preferencia e ao final apresente na tela as informações digitadas pelo usuário da seguinte\n",
        "forma: \"Voce gosta de AAAAAAA e BBBBBBB\"\n",
        "'''\n",
        "verdura = input(\"Digite o nome de uma verdura: \")\n",
        "fruta = input(\"Digite o nome de uma fruta: \")\n",
        "\n",
        "print(f\"Você gosta de {verdura} e {fruta}\")"
      ],
      "metadata": {
        "id": "SuMn-z9UKaKK"
      },
      "execution_count": null,
      "outputs": []
    },
    {
      "cell_type": "code",
      "source": [
        "'''11. Elabore um algoritmo que solicite ao usuário um número real e ao final imprima na tela o\n",
        "numero informado e na linha de baixo o dobro deste número da seguinte forma:\n",
        "Numero -> X\n",
        "Dobro deste numero -> Y\n",
        "'''\n",
        "numero = float(input(\"Digite um número real: \"))\n",
        "\n",
        "print(f\"Número -> {numero}\")\n",
        "print(f\"Dobro deste número -> {numero * 2}\")"
      ],
      "metadata": {
        "id": "5Y7lPq5vKcDE"
      },
      "execution_count": null,
      "outputs": []
    },
    {
      "cell_type": "code",
      "source": [
        "'''12. Reescrever o programa anterior apresentando o quadrado e o cubo do número informado\n",
        "'''\n",
        "num = float(input(\"Digite um número real: \"))\n",
        "\n",
        "print(f\"Número -> {num}\")\n",
        "print(f\"Quadrado deste número -> {num ** 2}\")\n",
        "print(f\"Cubo deste número -> {num ** 3}\")\n"
      ],
      "metadata": {
        "id": "iCzUycNIKesC"
      },
      "execution_count": null,
      "outputs": []
    },
    {
      "cell_type": "code",
      "source": [
        "'''13. Escreva um programa que solicite ao usuário dois números inteiros e ao final apresente\n",
        "na tela a soma dos dois números informados da seguinte forma: \"O numeros N e X\n",
        "somados correspondem a Y\"\n",
        "'''\n",
        "numero1 = int(input(\"Digite o primeiro número inteiro: \"))\n",
        "numero2 = int(input(\"Digite o segundo número inteiro: \"))\n",
        "\n",
        "soma = numero1 + numero2\n",
        "\n",
        "print(f\"O números {numero1} e {numero2} somados correspondem a {soma}\")"
      ],
      "metadata": {
        "id": "9lSR6m22KlKz"
      },
      "execution_count": null,
      "outputs": []
    },
    {
      "cell_type": "code",
      "source": [
        "'''14. Escreva um programa que solicite ao usuário dois números reais e ao final apresente na\n",
        "tela o produto dos dois números informados da seguinte forma: \"O produto dos numeros N\n",
        "e X corresponde a Y\"\n",
        "'''\n",
        "numero1 = float(input(\"Digite o primeiro número real: \"))\n",
        "numero2 = float(input(\"Digite o segundo número real: \"))\n",
        "\n",
        "produto = numero1 * numero2\n",
        "\n",
        "print(f\"O produto dos números {numero1} e {numero2} corresponde a {produto}\")"
      ],
      "metadata": {
        "id": "jSBb5x48Km4K"
      },
      "execution_count": null,
      "outputs": []
    },
    {
      "cell_type": "code",
      "source": [
        "'''15. Refazer o programa 14 realizando as quatro operações aritméticas básicas\n",
        "'''\n",
        "n1 = float(input(\"Digite o primeiro número real: \"))\n",
        "n2 = float(input(\"Digite o segundo número real: \"))\n",
        "\n",
        "print(f\"Soma: {n1 + n2}\")\n",
        "print(f\"Subtração: {n1 - n2}\")\n",
        "print(f\"Multiplicação: {n1 * n2}\")\n",
        "print(f\"Divisão: {n1 / n2 if n2 != 0 else 'Não é possível dividir por zero'}\")\n"
      ],
      "metadata": {
        "id": "FlxjyR_YKonF"
      },
      "execution_count": null,
      "outputs": []
    },
    {
      "cell_type": "code",
      "source": [
        "'''16. Escreva um programa que solicite o valor fixo do salário de um vendedor, o total vendido\n",
        "no mês e o percentual de comissão do vendedor. Ao final apresentar o salário bruto.\n",
        "'''\n",
        "salario_fixo = float(input(\"Digite o salário fixo do vendedor: \"))\n",
        "total_vendas = float(input(\"Digite o total vendido no mês: \"))\n",
        "percentual_comissao = float(input(\"Digite o percentual de comissão (%): \"))\n",
        "\n",
        "salario_bruto = salario_fixo + (total_vendas * (percentual_comissao / 100))\n",
        "\n",
        "print(f\"O salário bruto é {salario_bruto:.2f}\")\n",
        "\n"
      ],
      "metadata": {
        "id": "D54FX0ALKqwj"
      },
      "execution_count": null,
      "outputs": []
    }
  ]
}
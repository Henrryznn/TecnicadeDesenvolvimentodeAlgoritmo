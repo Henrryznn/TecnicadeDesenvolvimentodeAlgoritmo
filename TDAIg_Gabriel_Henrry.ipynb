{
  "nbformat": 4,
  "nbformat_minor": 0,
  "metadata": {
    "colab": {
      "provenance": [],
      "authorship_tag": "ABX9TyPCAmReKbdtgJgfGvyyWbq7",
      "include_colab_link": true
    },
    "kernelspec": {
      "name": "python3",
      "display_name": "Python 3"
    },
    "language_info": {
      "name": "python"
    }
  },
  "cells": [
    {
      "cell_type": "markdown",
      "metadata": {
        "id": "view-in-github",
        "colab_type": "text"
      },
      "source": [
        "<a href=\"https://colab.research.google.com/github/Henrryznn/TecnicadeDesenvolvimentodeAlgoritmo/blob/main/TDAIg_Gabriel_Henrry.ipynb\" target=\"_parent\"><img src=\"https://colab.research.google.com/assets/colab-badge.svg\" alt=\"Open In Colab\"/></a>"
      ]
    },
    {
      "cell_type": "markdown",
      "source": [
        "<h1> Atividade Lista 1 <h1>"
      ],
      "metadata": {
        "id": "TmunhFwdPV8K"
      }
    },
    {
      "cell_type": "markdown",
      "source": [
        "Nome: Gabriel Henrry Silva De Oliveira\n",
        "\n",
        "Turma: Ciencia da Computação\n",
        "\n",
        "![images.png](data:image/png;base64,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)\n"
      ],
      "metadata": {
        "id": "JMsI3JVSQKtm"
      }
    },
    {
      "cell_type": "code",
      "source": [
        "1#Lita de Exercícios N° 01\n",
        "#1.Escreva um programa que apresente na tela a frase: \"Meu primeiro programa!!!\"\n",
        "print(\"Meu primeiro programa\")"
      ],
      "metadata": {
        "colab": {
          "base_uri": "https://localhost:8080/"
        },
        "id": "gS9rJNDDRALi",
        "outputId": "26c9eb41-4f3c-4ce9-c22a-d353f6d98dc6"
      },
      "execution_count": null,
      "outputs": [
        {
          "output_type": "stream",
          "name": "stdout",
          "text": [
            "Meu primeiro programa\n"
          ]
        }
      ]
    },
    {
      "cell_type": "code",
      "source": [
        "'''\n",
        "2. Escreva um programa que solicite ao usuário um número inteiro e ao final apresente na tela\n",
        "o número informado pelo usuário do programa\n",
        "\n",
        "'''\n",
        "numero_inteiro=int(input(\"Digite um número inteiro: \"))\n",
        "print(\"O número informado pelo usuário do programa é:\", numero_inteiro)"
      ],
      "metadata": {
        "id": "qRpvcIb8Z1cp",
        "colab": {
          "base_uri": "https://localhost:8080/"
        },
        "outputId": "2fca5b00-802d-4818-e865-cea8e3396b12"
      },
      "execution_count": null,
      "outputs": [
        {
          "output_type": "stream",
          "name": "stdout",
          "text": [
            "Digite um número inteiro: 20\n",
            "O número informado pelo usuário do programa é: 20\n"
          ]
        }
      ]
    },
    {
      "cell_type": "code",
      "source": [
        "'''\n",
        "3. Escreva um programa que solicite ao usuário um número inteiro e ao final apresente na tela\n",
        "o número informado da seguinte forma: \"Foi informado o valor: X\"\n",
        "\n",
        "'''\n",
        "numero = int(input(\"digite um nero inteiro:\"))\n",
        "print(\"Foi informado o valor:\", numero)\n"
      ],
      "metadata": {
        "colab": {
          "base_uri": "https://localhost:8080/"
        },
        "id": "dMhY2ovKcZS1",
        "outputId": "5df09ad8-0456-4241-807d-b756590a62a2"
      },
      "execution_count": null,
      "outputs": [
        {
          "output_type": "stream",
          "name": "stdout",
          "text": [
            "digite um nero inteiro:30\n",
            "Foi informado o valor: 30\n"
          ]
        }
      ]
    },
    {
      "cell_type": "code",
      "source": [
        "'''4. Escreva um programa que solicite ao usuário dois números inteiros e ao final apresente na\n",
        "tela os dois números informados da seguinte forma: \"Voce informou os numeros X e Y\"\n",
        "'''\n",
        "x = int(input(\"Digite o primeiro número inteiro: \"))\n",
        "y = int(input(\"Digite o segundo número inteiro: \"))\n",
        "\n",
        "print(f\"Você informou os números {x} e {y}\")\n"
      ],
      "metadata": {
        "id": "ZVDHvYwUKAMV"
      },
      "execution_count": null,
      "outputs": []
    },
    {
      "cell_type": "code",
      "source": [
        "'''5. Escreva um programa que solicite ao usuário um número real e ao final apresente na tela o\n",
        "número informado formatado com duas casas decimais da seguinte forma: \"Voce informou\n",
        "o numero X.YY\"\n",
        "'''\n",
        "num = float(input(\"Digite um número real: \"))\n",
        "\n",
        "print(f\"Você informou o número {num:.2f}\")\n"
      ],
      "metadata": {
        "id": "LybYfW-pKGdb"
      },
      "execution_count": null,
      "outputs": []
    },
    {
      "cell_type": "code",
      "source": [
        "'''6. Escreva um programa que solicite ao usuário a temperatura em graus Celsius e ao final\n",
        "apresente a temperatura correspondente em graus Farenheit. F = Celsius * 1.8 + 32\n",
        "'''\n",
        "celsius = float(input(\"Digite a temperatura em graus Celsius: \"))\n",
        "\n",
        "farenheit = celsius * 1.8 + 32\n",
        "\n",
        "print(f\"A temperatura em graus Farenheit é: {farenheit:.2f}\")"
      ],
      "metadata": {
        "id": "NPwlt69DKK6q"
      },
      "execution_count": null,
      "outputs": []
    },
    {
      "cell_type": "code",
      "source": [
        "'''7. Escreva um programa que solicite ao usuário um número inteiro e um número real e ao final\n",
        "apresente na tela os dois números informados formatando com duas casas decimais\n",
        "somente o número real da seguinte forma: \"Voce informou os numeros N e X.YY\"\n",
        "'''\n",
        "numero_inteiro = int(input(\"Digite um número inteiro: \"))\n",
        "numero_real = float(input(\"Digite um número real: \"))\n",
        "\n",
        "print(f\"Você informou os números {numero_inteiro} e {numero_real:.2f}\")"
      ],
      "metadata": {
        "id": "c6opwZhuKObz"
      },
      "execution_count": null,
      "outputs": []
    },
    {
      "cell_type": "code",
      "source": [
        "'''8. Escreva um programa que solicite ao usuário a primeira letra de seu nome e ao final\n",
        "apresente na tela a letra informada pelo usuário da seguinte forma: \"Voce digitou w\"\n",
        "'''\n",
        "letra = input(\"Digite a primeira letra do seu nome: \")\n",
        "\n",
        "print(f\"Você digitou {letra}\")"
      ],
      "metadata": {
        "id": "L53ia3p8KWCi"
      },
      "execution_count": null,
      "outputs": []
    },
    {
      "cell_type": "code",
      "source": [
        "'''9. Escreva um programa que solicite ao usuário o nome de sua cor preferida e ao final\n",
        "apresente na tela a cor informada pelo usuário da seguinte forma: \"Voce gosta da cor AAA\"\n",
        "'''\n",
        "cor = input(\"Digite o nome de sua cor preferida: \")\n",
        "\n",
        "print(f\"Você gosta da cor {cor}\")"
      ],
      "metadata": {
        "id": "Hddo3KCRKXuU"
      },
      "execution_count": null,
      "outputs": []
    },
    {
      "cell_type": "code",
      "source": [
        "'''10. Escreva um programa que solicite ao usuário o nome de uma verdura e uma fruta de sua\n",
        "preferencia e ao final apresente na tela as informações digitadas pelo usuário da seguinte\n",
        "forma: \"Voce gosta de AAAAAAA e BBBBBBB\"\n",
        "'''\n",
        "verdura = input(\"Digite o nome de uma verdura: \")\n",
        "fruta = input(\"Digite o nome de uma fruta: \")\n",
        "\n",
        "print(f\"Você gosta de {verdura} e {fruta}\")"
      ],
      "metadata": {
        "id": "SuMn-z9UKaKK"
      },
      "execution_count": null,
      "outputs": []
    },
    {
      "cell_type": "code",
      "source": [
        "'''11. Elabore um algoritmo que solicite ao usuário um número real e ao final imprima na tela o\n",
        "numero informado e na linha de baixo o dobro deste número da seguinte forma:\n",
        "Numero -> X\n",
        "Dobro deste numero -> Y\n",
        "'''\n",
        "numero = float(input(\"Digite um número real: \"))\n",
        "\n",
        "print(f\"Número -> {numero}\")\n",
        "print(f\"Dobro deste número -> {numero * 2}\")"
      ],
      "metadata": {
        "id": "5Y7lPq5vKcDE"
      },
      "execution_count": null,
      "outputs": []
    },
    {
      "cell_type": "code",
      "source": [
        "'''12. Reescrever o programa anterior apresentando o quadrado e o cubo do número informado\n",
        "'''\n",
        "num = float(input(\"Digite um número real: \"))\n",
        "\n",
        "print(f\"Número -> {num}\")\n",
        "print(f\"Quadrado deste número -> {num ** 2}\")\n",
        "print(f\"Cubo deste número -> {num ** 3}\")\n"
      ],
      "metadata": {
        "id": "iCzUycNIKesC"
      },
      "execution_count": null,
      "outputs": []
    },
    {
      "cell_type": "code",
      "source": [
        "'''13. Escreva um programa que solicite ao usuário dois números inteiros e ao final apresente\n",
        "na tela a soma dos dois números informados da seguinte forma: \"O numeros N e X\n",
        "somados correspondem a Y\"\n",
        "'''\n",
        "numero1 = int(input(\"Digite o primeiro número inteiro: \"))\n",
        "numero2 = int(input(\"Digite o segundo número inteiro: \"))\n",
        "\n",
        "soma = numero1 + numero2\n",
        "\n",
        "print(f\"O números {numero1} e {numero2} somados correspondem a {soma}\")"
      ],
      "metadata": {
        "id": "9lSR6m22KlKz"
      },
      "execution_count": null,
      "outputs": []
    },
    {
      "cell_type": "code",
      "source": [
        "'''14. Escreva um programa que solicite ao usuário dois números reais e ao final apresente na\n",
        "tela o produto dos dois números informados da seguinte forma: \"O produto dos numeros N\n",
        "e X corresponde a Y\"\n",
        "'''\n",
        "numero1 = float(input(\"Digite o primeiro número real: \"))\n",
        "numero2 = float(input(\"Digite o segundo número real: \"))\n",
        "\n",
        "produto = numero1 * numero2\n",
        "\n",
        "print(f\"O produto dos números {numero1} e {numero2} corresponde a {produto}\")"
      ],
      "metadata": {
        "id": "jSBb5x48Km4K"
      },
      "execution_count": null,
      "outputs": []
    },
    {
      "cell_type": "code",
      "source": [
        "'''15. Refazer o programa 14 realizando as quatro operações aritméticas básicas\n",
        "'''\n",
        "n1 = float(input(\"Digite o primeiro número real: \"))\n",
        "n2 = float(input(\"Digite o segundo número real: \"))\n",
        "\n",
        "print(f\"Soma: {n1 + n2}\")\n",
        "print(f\"Subtração: {n1 - n2}\")\n",
        "print(f\"Multiplicação: {n1 * n2}\")\n",
        "print(f\"Divisão: {n1 / n2 if n2 != 0 else 'Não é possível dividir por zero'}\")\n"
      ],
      "metadata": {
        "id": "FlxjyR_YKonF"
      },
      "execution_count": null,
      "outputs": []
    },
    {
      "cell_type": "code",
      "source": [
        "'''16. Escreva um programa que solicite o valor fixo do salário de um vendedor, o total vendido\n",
        "no mês e o percentual de comissão do vendedor. Ao final apresentar o salário bruto.\n",
        "'''\n",
        "salario_fixo = float(input(\"Digite o salário fixo do vendedor: \"))\n",
        "total_vendas = float(input(\"Digite o total vendido no mês: \"))\n",
        "percentual_comissao = float(input(\"Digite o percentual de comissão (%): \"))\n",
        "\n",
        "salario_bruto = salario_fixo + (total_vendas * (percentual_comissao / 100))\n",
        "\n",
        "print(f\"O salário bruto é {salario_bruto:.2f}\")\n",
        "\n"
      ],
      "metadata": {
        "id": "D54FX0ALKqwj"
      },
      "execution_count": null,
      "outputs": []
    },
    {
      "cell_type": "markdown",
      "source": [
        "<h1> Atividade Lista 2 <h1>"
      ],
      "metadata": {
        "id": "KZT0Ovi7PB6Z"
      }
    },
    {
      "cell_type": "code",
      "source": [
        "'''\n",
        "1. Elabore um programa que solicite ao usuário um número real e ao final imprima na tela se o\n",
        "número informado é maior que 10 (dez)\n",
        "'''\n",
        "num = float(input(\"Digite um número real: \"))\n",
        "if num > 10:\n",
        "    print(\"O número é maior que 10.\")\n"
      ],
      "metadata": {
        "colab": {
          "base_uri": "https://localhost:8080/"
        },
        "id": "tpQMxz3a-OZl",
        "outputId": "d8459e65-099f-463e-ea9e-23630e2d2053"
      },
      "execution_count": null,
      "outputs": [
        {
          "output_type": "stream",
          "name": "stdout",
          "text": [
            "Digite um número real: 50\n",
            "O número é maior que 10.\n"
          ]
        }
      ]
    },
    {
      "cell_type": "code",
      "source": [
        "'''\n",
        "2. Escreva um programa que solicite ao usuário um número real e ao final imprima na tela se\n",
        "o número informado é maior ou igual a dez ou menor que 10 (dez)\n",
        "'''\n",
        "num = float(input(\"digite um número real:\"))\n",
        "if num >= 10:\n",
        "  print(\"o número é maior ou igual a 10\")\n",
        "else:\n",
        "  print(\"o número é menor que 10\")"
      ],
      "metadata": {
        "colab": {
          "base_uri": "https://localhost:8080/"
        },
        "id": "F7gtEu3tAjU0",
        "outputId": "a07788ad-53fa-46f0-ee02-de808df452ff"
      },
      "execution_count": null,
      "outputs": [
        {
          "output_type": "stream",
          "name": "stdout",
          "text": [
            "digite um número real:10\n",
            "o número é maior ou igual a 10\n"
          ]
        }
      ]
    },
    {
      "cell_type": "code",
      "source": [
        "'''\n",
        "3. Elabore um algoritmo que solicite ao usuário um número real e ao final imprima na tela se o\n",
        "número informado é maior que dez, se é menor que dez, ou se é igual a dez\n",
        "'''\n",
        "num = float(input('Digite um número real:'))\n",
        "if num> 10:\n",
        "  print('maior que 10')\n",
        "elif num < 10:\n",
        "  print('menor que 10')\n",
        "else:\n",
        "  print('igual a 10')"
      ],
      "metadata": {
        "colab": {
          "base_uri": "https://localhost:8080/"
        },
        "id": "oEwiPlil-Oua",
        "outputId": "41d8466f-4563-4a35-8a4e-1a0f1b250bcd"
      },
      "execution_count": null,
      "outputs": [
        {
          "output_type": "stream",
          "name": "stdout",
          "text": [
            "Digite um número real:10\n",
            "igual a 10\n"
          ]
        }
      ]
    },
    {
      "cell_type": "code",
      "source": [
        "'''\n",
        "4. Elabore um algoritmo que solicite ao usuário um número real e ao final imprima na tela se o\n",
        "número informado é positivo, negativo ou nulo (zero)\n",
        "'''\n",
        "num = float(input('Digite um número real:'))\n",
        "if num > 0:\n",
        "  print('o número é positivo')\n",
        "elif num < 0:\n",
        "  print('o número é negativo')\n",
        "else:\n",
        "  print('o número é nulo (zero).')"
      ],
      "metadata": {
        "colab": {
          "base_uri": "https://localhost:8080/"
        },
        "id": "1iVC9sll-O2Q",
        "outputId": "cf492651-8795-4d80-fd65-77b0398448b5"
      },
      "execution_count": null,
      "outputs": [
        {
          "output_type": "stream",
          "name": "stdout",
          "text": [
            "Digite um número real:10\n",
            "o número é positivo\n"
          ]
        }
      ]
    },
    {
      "cell_type": "code",
      "source": [
        "'''\n",
        "5. Elabore um algoritmo que leia um número inteiro e imprima uma das mensagens: é múltiplo\n",
        "de 3, ou, não é múltiplo de 3\n",
        "'''\n",
        "num = int(input('digite um número inteiro:'))\n",
        "if num % 3 == 0:\n",
        "  print('é múltiplo de 3')\n",
        "else:\n",
        "  print('não é múltiplo de 3')"
      ],
      "metadata": {
        "colab": {
          "base_uri": "https://localhost:8080/"
        },
        "id": "iPxahEoK-PWA",
        "outputId": "e5df342e-457a-4c22-86c6-f80f0121a8ef"
      },
      "execution_count": null,
      "outputs": [
        {
          "output_type": "stream",
          "name": "stdout",
          "text": [
            "digite um número inteiro:10\n",
            "não é múltiplo de 3\n"
          ]
        }
      ]
    },
    {
      "cell_type": "code",
      "source": [
        "'''\n",
        "6. Refazer o exercício anterior, solicitando antes o múltiplo a ser testado\n",
        "'''\n",
        "num = int(input('digite um número inteiro:'))\n",
        "multiplo = int(input('digite o múltiplo:'))\n",
        "if num % multiplo == 0:\n",
        "  print(f'é múltiplo de {multiplo}')"
      ],
      "metadata": {
        "colab": {
          "base_uri": "https://localhost:8080/"
        },
        "id": "T9OXEnpU-Pds",
        "outputId": "65d799f5-2820-4492-f9ee-4b47191a49f5"
      },
      "execution_count": null,
      "outputs": [
        {
          "output_type": "stream",
          "name": "stdout",
          "text": [
            "digite um número inteiro:10\n",
            "digite o múltiplo:5\n",
            "é múltiplo de 5\n"
          ]
        }
      ]
    },
    {
      "cell_type": "code",
      "source": [
        "'''\n",
        "7. Desenvolva um algoritmo que classifique um número inteiro fornecido pelo usuário como\n",
        "par ou ímpar\n",
        "'''\n",
        "num = int(input('digite um número inteiro:'))\n",
        "if num % 2 == 0:\n",
        "  print('é par')\n",
        "else:\n",
        "  print('é ímpar')"
      ],
      "metadata": {
        "colab": {
          "base_uri": "https://localhost:8080/"
        },
        "id": "U_UHlKpd-PoI",
        "outputId": "a66c01fe-c625-4b69-efb1-4ad8dcd8689a"
      },
      "execution_count": null,
      "outputs": [
        {
          "output_type": "stream",
          "name": "stdout",
          "text": [
            "digite um número inteiro:10\n",
            "é par\n"
          ]
        }
      ]
    },
    {
      "cell_type": "code",
      "source": [
        "'''\n",
        "8. Elabore um algoritmo que leia um número, e se ele for maior do que 20, imprimir a metade\n",
        "desse número, caso contrário, imprimir o dobro do número\n",
        "'''\n",
        "num = int(input('digite um número:'))\n",
        "if num > 20:\n",
        "  print(f\"Metade do número:{num/2}\")\n",
        "else:\n",
        "  print(f\"Dobro do número:{num*2}\")"
      ],
      "metadata": {
        "colab": {
          "base_uri": "https://localhost:8080/"
        },
        "id": "0802mM3Q-Pwf",
        "outputId": "a450c318-da25-4608-e202-0f5a5063ed2c"
      },
      "execution_count": null,
      "outputs": [
        {
          "output_type": "stream",
          "name": "stdout",
          "text": [
            "digite um número:5\n",
            "Dobro do número:10\n"
          ]
        }
      ]
    },
    {
      "cell_type": "code",
      "source": [
        "'''\n",
        "9. Elabore um algoritmo que leia dois números inteiros e realize a adição; caso o resultado\n",
        "seja maior que 10, imprima o quadrado do resultado, caso contrário, imprima a metade dele\n",
        "'''\n",
        "n1=int(input(\"digite o primeiro número:\"))\n",
        "n2=int(input(\"digite o segundo número:\"))\n",
        "soma=n1+n2\n",
        "if soma > 10:\n",
        "  print(f\"Quadrado do resultado:{soma**2}\")\n",
        "else:\n",
        "  print(f\"Metade do resultado:{soma/2}\")"
      ],
      "metadata": {
        "colab": {
          "base_uri": "https://localhost:8080/"
        },
        "id": "oVnkhjL8-P4r",
        "outputId": "fca38eea-87a4-42e6-ab9b-c7044204c213"
      },
      "execution_count": null,
      "outputs": [
        {
          "output_type": "stream",
          "name": "stdout",
          "text": [
            "digite o primeiro número:5\n",
            "digite o segundo número:2\n",
            "Metade do resultado:3.5\n"
          ]
        }
      ]
    },
    {
      "cell_type": "code",
      "source": [
        "'''\n",
        "10. O sistema de avaliação de determinada disciplina é composto por três provas. A primeira\n",
        "prova tem peso 2, a segunda tem peso 3 e a terceira tem peso 5. Considerando que a\n",
        "média para aprovação é 6.0, faça um algoritmo para calcular a média final de um aluno\n",
        "desta disciplina e dizer se o aluno foi aprovado ou não\n",
        "'''\n",
        "n1=float(input(\"Nota da prova 1 (peso 2):\"))\n",
        "n2=float(input(\"Nota da prova 2 (peso 3):\"))\n",
        "n3=float(input(\"Nota da prova 3 (peso 5):\"))\n",
        "media=(n1*2+n2*3+n3*5)/10\n",
        "if media >= 6:\n",
        "  print(f\"Aluno aprovado.\")\n",
        "else:\n",
        "  print(f\"Aluno reprovado.\")"
      ],
      "metadata": {
        "colab": {
          "base_uri": "https://localhost:8080/"
        },
        "id": "DsYOd-hx-QEk",
        "outputId": "e7f32ee9-7b1b-4e85-bb32-ddcaace5eb3e"
      },
      "execution_count": null,
      "outputs": [
        {
          "output_type": "stream",
          "name": "stdout",
          "text": [
            "Nota da prova 1 (peso 2):5\n",
            "Nota da prova 2 (peso 3):1\n",
            "Nota da prova 3 (peso 5):5\n",
            "Aluno reprovado.\n"
          ]
        }
      ]
    },
    {
      "cell_type": "code",
      "source": [
        "'''\n",
        "11. Elabore um algoritmo que leia o nome e o peso de duas pessoas e imprima o nome da\n",
        "pessoa mais pesada\n",
        "'''\n",
        "nome1 = input(\"Nome da primeira pessoa: \")\n",
        "peso1 = float(input(\"Peso de \" + nome1 + \": \"))\n",
        "nome2 = input(\"Nome da segunda pessoa: \")\n",
        "peso2 = float(input(\"Peso de \" + nome2 + \": \"))\n",
        "if peso1 > peso2:\n",
        "    print(f\"{nome1} é mais pesado.\")\n",
        "elif peso2 > peso1:\n",
        "    print(f\"{nome2} é mais pesado.\")\n",
        "else:\n",
        "    print(\"Ambos têm o mesmo peso.\")"
      ],
      "metadata": {
        "colab": {
          "base_uri": "https://localhost:8080/"
        },
        "id": "z41nopA--QON",
        "outputId": "45241022-c714-4e26-eaba-d7d31431dfee"
      },
      "execution_count": null,
      "outputs": [
        {
          "output_type": "stream",
          "name": "stdout",
          "text": [
            "Nome da primeira pessoa: gab\n",
            "Peso de gab: 20\n",
            "Nome da segunda pessoa: ge\n",
            "Peso de ge: 20\n",
            "Ambos têm o mesmo peso.\n"
          ]
        }
      ]
    },
    {
      "cell_type": "code",
      "source": [
        "'''\n",
        "12. Elabore um algoritmo que indique se um número digitado está compreendido entre 20 e\n",
        "90, ou não\n",
        "'''\n",
        "num = int(input(\"Digite um número:\"))\n",
        "if 20 <= num <= 90:\n",
        "  print(\"O número está entre 20 e 90.\")\n",
        "else:\n",
        "  print(\"O número não está entre 20 e 90.\")"
      ],
      "metadata": {
        "colab": {
          "base_uri": "https://localhost:8080/"
        },
        "id": "pPXl9zPq-QWk",
        "outputId": "331aeacd-eed8-4738-83e4-bf36c7ca6a13"
      },
      "execution_count": null,
      "outputs": [
        {
          "output_type": "stream",
          "name": "stdout",
          "text": [
            "Digite um número:18\n",
            "O número não está entre 20 e 90.\n"
          ]
        }
      ]
    },
    {
      "cell_type": "code",
      "source": [
        "'''\n",
        "13. Elabore um algoritmo que leia dois números e imprima qual é maior, qual é menor, ou se\n",
        "são iguais\n",
        "'''\n",
        "num1 = float(input(\"Digite o primeiro número:\"))\n",
        "num2 = float(input(\"Digite o segundo número:\"))\n",
        "if num1 > num2:\n",
        "  print(f\"{num1} é maior que {num2}\")\n",
        "elif num2 > num1:\n",
        "  print(f\"{num2} é maior que {num1}\")\n",
        "else:\n",
        "  print(f\"{num1} e {num2} são iguais\")"
      ],
      "metadata": {
        "colab": {
          "base_uri": "https://localhost:8080/"
        },
        "id": "TA3ue1Zp-QfZ",
        "outputId": "c7b4b8fb-c358-4557-e58d-220fa7ad93bf"
      },
      "execution_count": null,
      "outputs": [
        {
          "output_type": "stream",
          "name": "stdout",
          "text": [
            "Digite o primeiro número:52\n",
            "Digite o segundo número:21\n",
            "52.0 é maior que 21.0\n"
          ]
        }
      ]
    },
    {
      "cell_type": "code",
      "source": [
        "'''\n",
        "14. Escreva um programa em linguagem C que solicite ao usuário a média para aprovação\n",
        "em um curso e em seguida solicite ao usuário o nome, sexo e as 03 notas do aluno e ao\n",
        "final imprima a frase: \"O aluno XXXXX foi aprovado com media YY\" considerando o gênero\n",
        "do(a) aluno(a) e se foi aprovado(a) ou reprovado(a)\n",
        "'''\n",
        "media_aprovacao = float(input(\"Digite a média mínima para aprovação: \"))\n",
        "nome = input(\"Digite o nome do aluno(a): \")\n",
        "sexo = input(\"Digite o sexo (M/F): \").upper()\n",
        "n1 = float(input(\"Digite a nota 1: \"))\n",
        "n2 = float(input(\"Digite a nota 2: \"))\n",
        "n3 = float(input(\"Digite a nota 3: \"))\n",
        "media = (n1 + n2 + n3) / 3\n",
        "\n",
        "aprovado = media >= media_aprovacao\n",
        "tratamento = \"O aluno\" if sexo == \"M\" else \"A aluna\"\n",
        "status = \"aprovado\" if aprovado else \"reprovado\"\n",
        "\n",
        "print(f\"{tratamento} {nome} foi {status} com média {media:.2f}\")"
      ],
      "metadata": {
        "colab": {
          "base_uri": "https://localhost:8080/"
        },
        "id": "YUMw1wsS-QnR",
        "outputId": "df1d8807-e06f-4019-cf31-2956b2724dc2"
      },
      "execution_count": 2,
      "outputs": [
        {
          "output_type": "stream",
          "name": "stdout",
          "text": [
            "Digite a média mínima para aprovação: 5\n",
            "Digite o nome do aluno(a): Gabriel\n",
            "Digite o sexo (M/F): M\n",
            "Digite a nota 1: 6\n",
            "Digite a nota 2: 6\n",
            "Digite a nota 3: 6\n",
            "O aluno Gabriel foi aprovado com média 6.00\n"
          ]
        }
      ]
    },
    {
      "cell_type": "markdown",
      "source": [
        "<h1> Atividade Lista 3 <h1>"
      ],
      "metadata": {
        "id": "ThspbhHCRpoC"
      }
    },
    {
      "cell_type": "code",
      "source": [
        "\"\"\"\n",
        "1. Elabore um algoritmo que imprima na tela lado a lado o texto \"Hello World!\" 10 vezes.\n",
        "\"\"\"\n",
        "for i in range(10):\n",
        "  print(\"hello World!\", end=\" \")"
      ],
      "metadata": {
        "colab": {
          "base_uri": "https://localhost:8080/"
        },
        "id": "YWOb-53gRwZC",
        "outputId": "878a9be0-c99a-44a3-9b3b-8ff766fd6e17"
      },
      "execution_count": 3,
      "outputs": [
        {
          "output_type": "stream",
          "name": "stdout",
          "text": [
            "hello World! hello World! hello World! hello World! hello World! hello World! hello World! hello World! hello World! hello World! "
          ]
        }
      ]
    },
    {
      "cell_type": "code",
      "source": [
        "\"\"\"\n",
        "2. Elabore um algoritmo que imprima na tela o texto \"Hello World!\" 10 vezes, um por linha.\n",
        "\"\"\"\n",
        "for i in range(10):\n",
        "  print(\"Hello World!\")"
      ],
      "metadata": {
        "colab": {
          "base_uri": "https://localhost:8080/"
        },
        "id": "LIy-bPrjR-Ud",
        "outputId": "bc95a6f9-bf70-4100-d4e2-388142a54321"
      },
      "execution_count": 4,
      "outputs": [
        {
          "output_type": "stream",
          "name": "stdout",
          "text": [
            "Hello World!\n",
            "Hello World!\n",
            "Hello World!\n",
            "Hello World!\n",
            "Hello World!\n",
            "Hello World!\n",
            "Hello World!\n",
            "Hello World!\n",
            "Hello World!\n",
            "Hello World!\n"
          ]
        }
      ]
    },
    {
      "cell_type": "code",
      "source": [
        "\"\"\"\n",
        "3. Elabore um algoritmo que imprima todos os números inteiros de 1 até 100 inclusive.\n",
        "\"\"\"\n",
        "for i in range(1,101):\n",
        "  print(i)"
      ],
      "metadata": {
        "colab": {
          "base_uri": "https://localhost:8080/"
        },
        "id": "Oxz6pCTLR-dV",
        "outputId": "3b906bda-464d-45af-81b1-34ce1ad92af1"
      },
      "execution_count": 5,
      "outputs": [
        {
          "output_type": "stream",
          "name": "stdout",
          "text": [
            "1\n",
            "2\n",
            "3\n",
            "4\n",
            "5\n",
            "6\n",
            "7\n",
            "8\n",
            "9\n",
            "10\n",
            "11\n",
            "12\n",
            "13\n",
            "14\n",
            "15\n",
            "16\n",
            "17\n",
            "18\n",
            "19\n",
            "20\n",
            "21\n",
            "22\n",
            "23\n",
            "24\n",
            "25\n",
            "26\n",
            "27\n",
            "28\n",
            "29\n",
            "30\n",
            "31\n",
            "32\n",
            "33\n",
            "34\n",
            "35\n",
            "36\n",
            "37\n",
            "38\n",
            "39\n",
            "40\n",
            "41\n",
            "42\n",
            "43\n",
            "44\n",
            "45\n",
            "46\n",
            "47\n",
            "48\n",
            "49\n",
            "50\n",
            "51\n",
            "52\n",
            "53\n",
            "54\n",
            "55\n",
            "56\n",
            "57\n",
            "58\n",
            "59\n",
            "60\n",
            "61\n",
            "62\n",
            "63\n",
            "64\n",
            "65\n",
            "66\n",
            "67\n",
            "68\n",
            "69\n",
            "70\n",
            "71\n",
            "72\n",
            "73\n",
            "74\n",
            "75\n",
            "76\n",
            "77\n",
            "78\n",
            "79\n",
            "80\n",
            "81\n",
            "82\n",
            "83\n",
            "84\n",
            "85\n",
            "86\n",
            "87\n",
            "88\n",
            "89\n",
            "90\n",
            "91\n",
            "92\n",
            "93\n",
            "94\n",
            "95\n",
            "96\n",
            "97\n",
            "98\n",
            "99\n",
            "100\n"
          ]
        }
      ]
    },
    {
      "cell_type": "code",
      "source": [
        "'''\n",
        "4. Elabore um algoritmo que imprima 100 vezes o texto \"1- Hello World!\" com o número.\n",
        "'''\n",
        "for i in range(1, 101):\n",
        "  print(f\"{i} - Hello World!\")"
      ],
      "metadata": {
        "colab": {
          "base_uri": "https://localhost:8080/"
        },
        "id": "OeznmoazR-kU",
        "outputId": "915e939e-d305-48e3-bb30-bc262b6c5af9"
      },
      "execution_count": 8,
      "outputs": [
        {
          "output_type": "stream",
          "name": "stdout",
          "text": [
            "1 - Hello World!\n",
            "2 - Hello World!\n",
            "3 - Hello World!\n",
            "4 - Hello World!\n",
            "5 - Hello World!\n",
            "6 - Hello World!\n",
            "7 - Hello World!\n",
            "8 - Hello World!\n",
            "9 - Hello World!\n",
            "10 - Hello World!\n",
            "11 - Hello World!\n",
            "12 - Hello World!\n",
            "13 - Hello World!\n",
            "14 - Hello World!\n",
            "15 - Hello World!\n",
            "16 - Hello World!\n",
            "17 - Hello World!\n",
            "18 - Hello World!\n",
            "19 - Hello World!\n",
            "20 - Hello World!\n",
            "21 - Hello World!\n",
            "22 - Hello World!\n",
            "23 - Hello World!\n",
            "24 - Hello World!\n",
            "25 - Hello World!\n",
            "26 - Hello World!\n",
            "27 - Hello World!\n",
            "28 - Hello World!\n",
            "29 - Hello World!\n",
            "30 - Hello World!\n",
            "31 - Hello World!\n",
            "32 - Hello World!\n",
            "33 - Hello World!\n",
            "34 - Hello World!\n",
            "35 - Hello World!\n",
            "36 - Hello World!\n",
            "37 - Hello World!\n",
            "38 - Hello World!\n",
            "39 - Hello World!\n",
            "40 - Hello World!\n",
            "41 - Hello World!\n",
            "42 - Hello World!\n",
            "43 - Hello World!\n",
            "44 - Hello World!\n",
            "45 - Hello World!\n",
            "46 - Hello World!\n",
            "47 - Hello World!\n",
            "48 - Hello World!\n",
            "49 - Hello World!\n",
            "50 - Hello World!\n",
            "51 - Hello World!\n",
            "52 - Hello World!\n",
            "53 - Hello World!\n",
            "54 - Hello World!\n",
            "55 - Hello World!\n",
            "56 - Hello World!\n",
            "57 - Hello World!\n",
            "58 - Hello World!\n",
            "59 - Hello World!\n",
            "60 - Hello World!\n",
            "61 - Hello World!\n",
            "62 - Hello World!\n",
            "63 - Hello World!\n",
            "64 - Hello World!\n",
            "65 - Hello World!\n",
            "66 - Hello World!\n",
            "67 - Hello World!\n",
            "68 - Hello World!\n",
            "69 - Hello World!\n",
            "70 - Hello World!\n",
            "71 - Hello World!\n",
            "72 - Hello World!\n",
            "73 - Hello World!\n",
            "74 - Hello World!\n",
            "75 - Hello World!\n",
            "76 - Hello World!\n",
            "77 - Hello World!\n",
            "78 - Hello World!\n",
            "79 - Hello World!\n",
            "80 - Hello World!\n",
            "81 - Hello World!\n",
            "82 - Hello World!\n",
            "83 - Hello World!\n",
            "84 - Hello World!\n",
            "85 - Hello World!\n",
            "86 - Hello World!\n",
            "87 - Hello World!\n",
            "88 - Hello World!\n",
            "89 - Hello World!\n",
            "90 - Hello World!\n",
            "91 - Hello World!\n",
            "92 - Hello World!\n",
            "93 - Hello World!\n",
            "94 - Hello World!\n",
            "95 - Hello World!\n",
            "96 - Hello World!\n",
            "97 - Hello World!\n",
            "98 - Hello World!\n",
            "99 - Hello World!\n",
            "100 - Hello World!\n"
          ]
        }
      ]
    },
    {
      "cell_type": "code",
      "source": [
        "'''\n",
        "5. Elabore um algoritmo que imprima todos os números decrescentes de 100 até 0 inclusive.\n",
        "'''\n",
        "for i in range(100, -1, -1):\n",
        "  print(i)"
      ],
      "metadata": {
        "colab": {
          "base_uri": "https://localhost:8080/"
        },
        "id": "AG8FCtKfR-rt",
        "outputId": "611cf342-21d0-4e0b-d798-43225da3507f"
      },
      "execution_count": 9,
      "outputs": [
        {
          "output_type": "stream",
          "name": "stdout",
          "text": [
            "100\n",
            "99\n",
            "98\n",
            "97\n",
            "96\n",
            "95\n",
            "94\n",
            "93\n",
            "92\n",
            "91\n",
            "90\n",
            "89\n",
            "88\n",
            "87\n",
            "86\n",
            "85\n",
            "84\n",
            "83\n",
            "82\n",
            "81\n",
            "80\n",
            "79\n",
            "78\n",
            "77\n",
            "76\n",
            "75\n",
            "74\n",
            "73\n",
            "72\n",
            "71\n",
            "70\n",
            "69\n",
            "68\n",
            "67\n",
            "66\n",
            "65\n",
            "64\n",
            "63\n",
            "62\n",
            "61\n",
            "60\n",
            "59\n",
            "58\n",
            "57\n",
            "56\n",
            "55\n",
            "54\n",
            "53\n",
            "52\n",
            "51\n",
            "50\n",
            "49\n",
            "48\n",
            "47\n",
            "46\n",
            "45\n",
            "44\n",
            "43\n",
            "42\n",
            "41\n",
            "40\n",
            "39\n",
            "38\n",
            "37\n",
            "36\n",
            "35\n",
            "34\n",
            "33\n",
            "32\n",
            "31\n",
            "30\n",
            "29\n",
            "28\n",
            "27\n",
            "26\n",
            "25\n",
            "24\n",
            "23\n",
            "22\n",
            "21\n",
            "20\n",
            "19\n",
            "18\n",
            "17\n",
            "16\n",
            "15\n",
            "14\n",
            "13\n",
            "12\n",
            "11\n",
            "10\n",
            "9\n",
            "8\n",
            "7\n",
            "6\n",
            "5\n",
            "4\n",
            "3\n",
            "2\n",
            "1\n",
            "0\n"
          ]
        }
      ]
    },
    {
      "cell_type": "code",
      "source": [
        "'''\n",
        "6. Elabore um algoritmo que imprima todos os números pares inteiros de 1 até 1000.\n",
        "'''\n",
        "for i in range(2, 1001, 2):\n",
        "  print(i)"
      ],
      "metadata": {
        "colab": {
          "base_uri": "https://localhost:8080/"
        },
        "id": "_1eZSvzER-yW",
        "outputId": "41a54aae-b19d-492c-f2f7-8d55e81d2060"
      },
      "execution_count": 10,
      "outputs": [
        {
          "output_type": "stream",
          "name": "stdout",
          "text": [
            "2\n",
            "4\n",
            "6\n",
            "8\n",
            "10\n",
            "12\n",
            "14\n",
            "16\n",
            "18\n",
            "20\n",
            "22\n",
            "24\n",
            "26\n",
            "28\n",
            "30\n",
            "32\n",
            "34\n",
            "36\n",
            "38\n",
            "40\n",
            "42\n",
            "44\n",
            "46\n",
            "48\n",
            "50\n",
            "52\n",
            "54\n",
            "56\n",
            "58\n",
            "60\n",
            "62\n",
            "64\n",
            "66\n",
            "68\n",
            "70\n",
            "72\n",
            "74\n",
            "76\n",
            "78\n",
            "80\n",
            "82\n",
            "84\n",
            "86\n",
            "88\n",
            "90\n",
            "92\n",
            "94\n",
            "96\n",
            "98\n",
            "100\n",
            "102\n",
            "104\n",
            "106\n",
            "108\n",
            "110\n",
            "112\n",
            "114\n",
            "116\n",
            "118\n",
            "120\n",
            "122\n",
            "124\n",
            "126\n",
            "128\n",
            "130\n",
            "132\n",
            "134\n",
            "136\n",
            "138\n",
            "140\n",
            "142\n",
            "144\n",
            "146\n",
            "148\n",
            "150\n",
            "152\n",
            "154\n",
            "156\n",
            "158\n",
            "160\n",
            "162\n",
            "164\n",
            "166\n",
            "168\n",
            "170\n",
            "172\n",
            "174\n",
            "176\n",
            "178\n",
            "180\n",
            "182\n",
            "184\n",
            "186\n",
            "188\n",
            "190\n",
            "192\n",
            "194\n",
            "196\n",
            "198\n",
            "200\n",
            "202\n",
            "204\n",
            "206\n",
            "208\n",
            "210\n",
            "212\n",
            "214\n",
            "216\n",
            "218\n",
            "220\n",
            "222\n",
            "224\n",
            "226\n",
            "228\n",
            "230\n",
            "232\n",
            "234\n",
            "236\n",
            "238\n",
            "240\n",
            "242\n",
            "244\n",
            "246\n",
            "248\n",
            "250\n",
            "252\n",
            "254\n",
            "256\n",
            "258\n",
            "260\n",
            "262\n",
            "264\n",
            "266\n",
            "268\n",
            "270\n",
            "272\n",
            "274\n",
            "276\n",
            "278\n",
            "280\n",
            "282\n",
            "284\n",
            "286\n",
            "288\n",
            "290\n",
            "292\n",
            "294\n",
            "296\n",
            "298\n",
            "300\n",
            "302\n",
            "304\n",
            "306\n",
            "308\n",
            "310\n",
            "312\n",
            "314\n",
            "316\n",
            "318\n",
            "320\n",
            "322\n",
            "324\n",
            "326\n",
            "328\n",
            "330\n",
            "332\n",
            "334\n",
            "336\n",
            "338\n",
            "340\n",
            "342\n",
            "344\n",
            "346\n",
            "348\n",
            "350\n",
            "352\n",
            "354\n",
            "356\n",
            "358\n",
            "360\n",
            "362\n",
            "364\n",
            "366\n",
            "368\n",
            "370\n",
            "372\n",
            "374\n",
            "376\n",
            "378\n",
            "380\n",
            "382\n",
            "384\n",
            "386\n",
            "388\n",
            "390\n",
            "392\n",
            "394\n",
            "396\n",
            "398\n",
            "400\n",
            "402\n",
            "404\n",
            "406\n",
            "408\n",
            "410\n",
            "412\n",
            "414\n",
            "416\n",
            "418\n",
            "420\n",
            "422\n",
            "424\n",
            "426\n",
            "428\n",
            "430\n",
            "432\n",
            "434\n",
            "436\n",
            "438\n",
            "440\n",
            "442\n",
            "444\n",
            "446\n",
            "448\n",
            "450\n",
            "452\n",
            "454\n",
            "456\n",
            "458\n",
            "460\n",
            "462\n",
            "464\n",
            "466\n",
            "468\n",
            "470\n",
            "472\n",
            "474\n",
            "476\n",
            "478\n",
            "480\n",
            "482\n",
            "484\n",
            "486\n",
            "488\n",
            "490\n",
            "492\n",
            "494\n",
            "496\n",
            "498\n",
            "500\n",
            "502\n",
            "504\n",
            "506\n",
            "508\n",
            "510\n",
            "512\n",
            "514\n",
            "516\n",
            "518\n",
            "520\n",
            "522\n",
            "524\n",
            "526\n",
            "528\n",
            "530\n",
            "532\n",
            "534\n",
            "536\n",
            "538\n",
            "540\n",
            "542\n",
            "544\n",
            "546\n",
            "548\n",
            "550\n",
            "552\n",
            "554\n",
            "556\n",
            "558\n",
            "560\n",
            "562\n",
            "564\n",
            "566\n",
            "568\n",
            "570\n",
            "572\n",
            "574\n",
            "576\n",
            "578\n",
            "580\n",
            "582\n",
            "584\n",
            "586\n",
            "588\n",
            "590\n",
            "592\n",
            "594\n",
            "596\n",
            "598\n",
            "600\n",
            "602\n",
            "604\n",
            "606\n",
            "608\n",
            "610\n",
            "612\n",
            "614\n",
            "616\n",
            "618\n",
            "620\n",
            "622\n",
            "624\n",
            "626\n",
            "628\n",
            "630\n",
            "632\n",
            "634\n",
            "636\n",
            "638\n",
            "640\n",
            "642\n",
            "644\n",
            "646\n",
            "648\n",
            "650\n",
            "652\n",
            "654\n",
            "656\n",
            "658\n",
            "660\n",
            "662\n",
            "664\n",
            "666\n",
            "668\n",
            "670\n",
            "672\n",
            "674\n",
            "676\n",
            "678\n",
            "680\n",
            "682\n",
            "684\n",
            "686\n",
            "688\n",
            "690\n",
            "692\n",
            "694\n",
            "696\n",
            "698\n",
            "700\n",
            "702\n",
            "704\n",
            "706\n",
            "708\n",
            "710\n",
            "712\n",
            "714\n",
            "716\n",
            "718\n",
            "720\n",
            "722\n",
            "724\n",
            "726\n",
            "728\n",
            "730\n",
            "732\n",
            "734\n",
            "736\n",
            "738\n",
            "740\n",
            "742\n",
            "744\n",
            "746\n",
            "748\n",
            "750\n",
            "752\n",
            "754\n",
            "756\n",
            "758\n",
            "760\n",
            "762\n",
            "764\n",
            "766\n",
            "768\n",
            "770\n",
            "772\n",
            "774\n",
            "776\n",
            "778\n",
            "780\n",
            "782\n",
            "784\n",
            "786\n",
            "788\n",
            "790\n",
            "792\n",
            "794\n",
            "796\n",
            "798\n",
            "800\n",
            "802\n",
            "804\n",
            "806\n",
            "808\n",
            "810\n",
            "812\n",
            "814\n",
            "816\n",
            "818\n",
            "820\n",
            "822\n",
            "824\n",
            "826\n",
            "828\n",
            "830\n",
            "832\n",
            "834\n",
            "836\n",
            "838\n",
            "840\n",
            "842\n",
            "844\n",
            "846\n",
            "848\n",
            "850\n",
            "852\n",
            "854\n",
            "856\n",
            "858\n",
            "860\n",
            "862\n",
            "864\n",
            "866\n",
            "868\n",
            "870\n",
            "872\n",
            "874\n",
            "876\n",
            "878\n",
            "880\n",
            "882\n",
            "884\n",
            "886\n",
            "888\n",
            "890\n",
            "892\n",
            "894\n",
            "896\n",
            "898\n",
            "900\n",
            "902\n",
            "904\n",
            "906\n",
            "908\n",
            "910\n",
            "912\n",
            "914\n",
            "916\n",
            "918\n",
            "920\n",
            "922\n",
            "924\n",
            "926\n",
            "928\n",
            "930\n",
            "932\n",
            "934\n",
            "936\n",
            "938\n",
            "940\n",
            "942\n",
            "944\n",
            "946\n",
            "948\n",
            "950\n",
            "952\n",
            "954\n",
            "956\n",
            "958\n",
            "960\n",
            "962\n",
            "964\n",
            "966\n",
            "968\n",
            "970\n",
            "972\n",
            "974\n",
            "976\n",
            "978\n",
            "980\n",
            "982\n",
            "984\n",
            "986\n",
            "988\n",
            "990\n",
            "992\n",
            "994\n",
            "996\n",
            "998\n",
            "1000\n"
          ]
        }
      ]
    },
    {
      "cell_type": "code",
      "source": [
        "'''\n",
        "7. Elabore um algoritmo que imprima todos os números ímpares de 1000 até 0.\n",
        "'''\n",
        "for i in range(999, -1, -2):\n",
        "  print(i)"
      ],
      "metadata": {
        "colab": {
          "base_uri": "https://localhost:8080/"
        },
        "id": "cUuXG3-HR-4s",
        "outputId": "4a604ea0-3fd4-4712-9343-b258ef4d739a"
      },
      "execution_count": 11,
      "outputs": [
        {
          "output_type": "stream",
          "name": "stdout",
          "text": [
            "999\n",
            "997\n",
            "995\n",
            "993\n",
            "991\n",
            "989\n",
            "987\n",
            "985\n",
            "983\n",
            "981\n",
            "979\n",
            "977\n",
            "975\n",
            "973\n",
            "971\n",
            "969\n",
            "967\n",
            "965\n",
            "963\n",
            "961\n",
            "959\n",
            "957\n",
            "955\n",
            "953\n",
            "951\n",
            "949\n",
            "947\n",
            "945\n",
            "943\n",
            "941\n",
            "939\n",
            "937\n",
            "935\n",
            "933\n",
            "931\n",
            "929\n",
            "927\n",
            "925\n",
            "923\n",
            "921\n",
            "919\n",
            "917\n",
            "915\n",
            "913\n",
            "911\n",
            "909\n",
            "907\n",
            "905\n",
            "903\n",
            "901\n",
            "899\n",
            "897\n",
            "895\n",
            "893\n",
            "891\n",
            "889\n",
            "887\n",
            "885\n",
            "883\n",
            "881\n",
            "879\n",
            "877\n",
            "875\n",
            "873\n",
            "871\n",
            "869\n",
            "867\n",
            "865\n",
            "863\n",
            "861\n",
            "859\n",
            "857\n",
            "855\n",
            "853\n",
            "851\n",
            "849\n",
            "847\n",
            "845\n",
            "843\n",
            "841\n",
            "839\n",
            "837\n",
            "835\n",
            "833\n",
            "831\n",
            "829\n",
            "827\n",
            "825\n",
            "823\n",
            "821\n",
            "819\n",
            "817\n",
            "815\n",
            "813\n",
            "811\n",
            "809\n",
            "807\n",
            "805\n",
            "803\n",
            "801\n",
            "799\n",
            "797\n",
            "795\n",
            "793\n",
            "791\n",
            "789\n",
            "787\n",
            "785\n",
            "783\n",
            "781\n",
            "779\n",
            "777\n",
            "775\n",
            "773\n",
            "771\n",
            "769\n",
            "767\n",
            "765\n",
            "763\n",
            "761\n",
            "759\n",
            "757\n",
            "755\n",
            "753\n",
            "751\n",
            "749\n",
            "747\n",
            "745\n",
            "743\n",
            "741\n",
            "739\n",
            "737\n",
            "735\n",
            "733\n",
            "731\n",
            "729\n",
            "727\n",
            "725\n",
            "723\n",
            "721\n",
            "719\n",
            "717\n",
            "715\n",
            "713\n",
            "711\n",
            "709\n",
            "707\n",
            "705\n",
            "703\n",
            "701\n",
            "699\n",
            "697\n",
            "695\n",
            "693\n",
            "691\n",
            "689\n",
            "687\n",
            "685\n",
            "683\n",
            "681\n",
            "679\n",
            "677\n",
            "675\n",
            "673\n",
            "671\n",
            "669\n",
            "667\n",
            "665\n",
            "663\n",
            "661\n",
            "659\n",
            "657\n",
            "655\n",
            "653\n",
            "651\n",
            "649\n",
            "647\n",
            "645\n",
            "643\n",
            "641\n",
            "639\n",
            "637\n",
            "635\n",
            "633\n",
            "631\n",
            "629\n",
            "627\n",
            "625\n",
            "623\n",
            "621\n",
            "619\n",
            "617\n",
            "615\n",
            "613\n",
            "611\n",
            "609\n",
            "607\n",
            "605\n",
            "603\n",
            "601\n",
            "599\n",
            "597\n",
            "595\n",
            "593\n",
            "591\n",
            "589\n",
            "587\n",
            "585\n",
            "583\n",
            "581\n",
            "579\n",
            "577\n",
            "575\n",
            "573\n",
            "571\n",
            "569\n",
            "567\n",
            "565\n",
            "563\n",
            "561\n",
            "559\n",
            "557\n",
            "555\n",
            "553\n",
            "551\n",
            "549\n",
            "547\n",
            "545\n",
            "543\n",
            "541\n",
            "539\n",
            "537\n",
            "535\n",
            "533\n",
            "531\n",
            "529\n",
            "527\n",
            "525\n",
            "523\n",
            "521\n",
            "519\n",
            "517\n",
            "515\n",
            "513\n",
            "511\n",
            "509\n",
            "507\n",
            "505\n",
            "503\n",
            "501\n",
            "499\n",
            "497\n",
            "495\n",
            "493\n",
            "491\n",
            "489\n",
            "487\n",
            "485\n",
            "483\n",
            "481\n",
            "479\n",
            "477\n",
            "475\n",
            "473\n",
            "471\n",
            "469\n",
            "467\n",
            "465\n",
            "463\n",
            "461\n",
            "459\n",
            "457\n",
            "455\n",
            "453\n",
            "451\n",
            "449\n",
            "447\n",
            "445\n",
            "443\n",
            "441\n",
            "439\n",
            "437\n",
            "435\n",
            "433\n",
            "431\n",
            "429\n",
            "427\n",
            "425\n",
            "423\n",
            "421\n",
            "419\n",
            "417\n",
            "415\n",
            "413\n",
            "411\n",
            "409\n",
            "407\n",
            "405\n",
            "403\n",
            "401\n",
            "399\n",
            "397\n",
            "395\n",
            "393\n",
            "391\n",
            "389\n",
            "387\n",
            "385\n",
            "383\n",
            "381\n",
            "379\n",
            "377\n",
            "375\n",
            "373\n",
            "371\n",
            "369\n",
            "367\n",
            "365\n",
            "363\n",
            "361\n",
            "359\n",
            "357\n",
            "355\n",
            "353\n",
            "351\n",
            "349\n",
            "347\n",
            "345\n",
            "343\n",
            "341\n",
            "339\n",
            "337\n",
            "335\n",
            "333\n",
            "331\n",
            "329\n",
            "327\n",
            "325\n",
            "323\n",
            "321\n",
            "319\n",
            "317\n",
            "315\n",
            "313\n",
            "311\n",
            "309\n",
            "307\n",
            "305\n",
            "303\n",
            "301\n",
            "299\n",
            "297\n",
            "295\n",
            "293\n",
            "291\n",
            "289\n",
            "287\n",
            "285\n",
            "283\n",
            "281\n",
            "279\n",
            "277\n",
            "275\n",
            "273\n",
            "271\n",
            "269\n",
            "267\n",
            "265\n",
            "263\n",
            "261\n",
            "259\n",
            "257\n",
            "255\n",
            "253\n",
            "251\n",
            "249\n",
            "247\n",
            "245\n",
            "243\n",
            "241\n",
            "239\n",
            "237\n",
            "235\n",
            "233\n",
            "231\n",
            "229\n",
            "227\n",
            "225\n",
            "223\n",
            "221\n",
            "219\n",
            "217\n",
            "215\n",
            "213\n",
            "211\n",
            "209\n",
            "207\n",
            "205\n",
            "203\n",
            "201\n",
            "199\n",
            "197\n",
            "195\n",
            "193\n",
            "191\n",
            "189\n",
            "187\n",
            "185\n",
            "183\n",
            "181\n",
            "179\n",
            "177\n",
            "175\n",
            "173\n",
            "171\n",
            "169\n",
            "167\n",
            "165\n",
            "163\n",
            "161\n",
            "159\n",
            "157\n",
            "155\n",
            "153\n",
            "151\n",
            "149\n",
            "147\n",
            "145\n",
            "143\n",
            "141\n",
            "139\n",
            "137\n",
            "135\n",
            "133\n",
            "131\n",
            "129\n",
            "127\n",
            "125\n",
            "123\n",
            "121\n",
            "119\n",
            "117\n",
            "115\n",
            "113\n",
            "111\n",
            "109\n",
            "107\n",
            "105\n",
            "103\n",
            "101\n",
            "99\n",
            "97\n",
            "95\n",
            "93\n",
            "91\n",
            "89\n",
            "87\n",
            "85\n",
            "83\n",
            "81\n",
            "79\n",
            "77\n",
            "75\n",
            "73\n",
            "71\n",
            "69\n",
            "67\n",
            "65\n",
            "63\n",
            "61\n",
            "59\n",
            "57\n",
            "55\n",
            "53\n",
            "51\n",
            "49\n",
            "47\n",
            "45\n",
            "43\n",
            "41\n",
            "39\n",
            "37\n",
            "35\n",
            "33\n",
            "31\n",
            "29\n",
            "27\n",
            "25\n",
            "23\n",
            "21\n",
            "19\n",
            "17\n",
            "15\n",
            "13\n",
            "11\n",
            "9\n",
            "7\n",
            "5\n",
            "3\n",
            "1\n"
          ]
        }
      ]
    },
    {
      "cell_type": "code",
      "source": [
        "'''\n",
        "8. Elabore um algoritmo que imprima a soma dos 100 primeiros números inteiros positivos.\n",
        "'''\n",
        "soma = 0\n",
        "for i in range(1, 101):\n",
        "  soma += i\n",
        "  print(\"soma =\", soma)"
      ],
      "metadata": {
        "colab": {
          "base_uri": "https://localhost:8080/"
        },
        "id": "KS7xXF5kR--s",
        "outputId": "12a13d75-7cd9-43cc-ee31-fbeba4970f62"
      },
      "execution_count": 12,
      "outputs": [
        {
          "output_type": "stream",
          "name": "stdout",
          "text": [
            "soma = 1\n",
            "soma = 3\n",
            "soma = 6\n",
            "soma = 10\n",
            "soma = 15\n",
            "soma = 21\n",
            "soma = 28\n",
            "soma = 36\n",
            "soma = 45\n",
            "soma = 55\n",
            "soma = 66\n",
            "soma = 78\n",
            "soma = 91\n",
            "soma = 105\n",
            "soma = 120\n",
            "soma = 136\n",
            "soma = 153\n",
            "soma = 171\n",
            "soma = 190\n",
            "soma = 210\n",
            "soma = 231\n",
            "soma = 253\n",
            "soma = 276\n",
            "soma = 300\n",
            "soma = 325\n",
            "soma = 351\n",
            "soma = 378\n",
            "soma = 406\n",
            "soma = 435\n",
            "soma = 465\n",
            "soma = 496\n",
            "soma = 528\n",
            "soma = 561\n",
            "soma = 595\n",
            "soma = 630\n",
            "soma = 666\n",
            "soma = 703\n",
            "soma = 741\n",
            "soma = 780\n",
            "soma = 820\n",
            "soma = 861\n",
            "soma = 903\n",
            "soma = 946\n",
            "soma = 990\n",
            "soma = 1035\n",
            "soma = 1081\n",
            "soma = 1128\n",
            "soma = 1176\n",
            "soma = 1225\n",
            "soma = 1275\n",
            "soma = 1326\n",
            "soma = 1378\n",
            "soma = 1431\n",
            "soma = 1485\n",
            "soma = 1540\n",
            "soma = 1596\n",
            "soma = 1653\n",
            "soma = 1711\n",
            "soma = 1770\n",
            "soma = 1830\n",
            "soma = 1891\n",
            "soma = 1953\n",
            "soma = 2016\n",
            "soma = 2080\n",
            "soma = 2145\n",
            "soma = 2211\n",
            "soma = 2278\n",
            "soma = 2346\n",
            "soma = 2415\n",
            "soma = 2485\n",
            "soma = 2556\n",
            "soma = 2628\n",
            "soma = 2701\n",
            "soma = 2775\n",
            "soma = 2850\n",
            "soma = 2926\n",
            "soma = 3003\n",
            "soma = 3081\n",
            "soma = 3160\n",
            "soma = 3240\n",
            "soma = 3321\n",
            "soma = 3403\n",
            "soma = 3486\n",
            "soma = 3570\n",
            "soma = 3655\n",
            "soma = 3741\n",
            "soma = 3828\n",
            "soma = 3916\n",
            "soma = 4005\n",
            "soma = 4095\n",
            "soma = 4186\n",
            "soma = 4278\n",
            "soma = 4371\n",
            "soma = 4465\n",
            "soma = 4560\n",
            "soma = 4656\n",
            "soma = 4753\n",
            "soma = 4851\n",
            "soma = 4950\n",
            "soma = 5050\n"
          ]
        }
      ]
    },
    {
      "cell_type": "code",
      "source": [
        "'''\n",
        "9. Elabore um algoritmo que solicite ao usuário um número inteiro que indicará a quantidade de vezes que o texto \"Hello World!\" será impresso na tela, um em cada linha.\n",
        "'''\n",
        "n = int(input(\"Digite um número inteiro:\"))\n",
        "for i in range(n):\n",
        "  print(\"Hello Word!\")"
      ],
      "metadata": {
        "colab": {
          "base_uri": "https://localhost:8080/"
        },
        "id": "kyIHxeVPR_FL",
        "outputId": "56a62d2d-0ba5-47bc-d33a-9c191c376085"
      },
      "execution_count": 14,
      "outputs": [
        {
          "output_type": "stream",
          "name": "stdout",
          "text": [
            "Digite um número inteiro:10\n",
            "Hello Word!\n",
            "Hello Word!\n",
            "Hello Word!\n",
            "Hello Word!\n",
            "Hello Word!\n",
            "Hello Word!\n",
            "Hello Word!\n",
            "Hello Word!\n",
            "Hello Word!\n",
            "Hello Word!\n"
          ]
        }
      ]
    },
    {
      "cell_type": "code",
      "source": [
        "'''\n",
        "10. Elabore um algoritmo que solicite ao usuário uma palavra e um número inteiro que\n",
        "indicará a quantidade de vezes que a palavra digitada será impressa na tela, um em cada\n",
        "linha.\n",
        "'''\n",
        "palavra = input(\"Digite uma palavra:\")\n",
        "n = int(input(\"Digite um número inteiro:\"))\n",
        "for i in range(n):\n",
        "  print(palavra)"
      ],
      "metadata": {
        "colab": {
          "base_uri": "https://localhost:8080/"
        },
        "id": "J1NHl52yR_LU",
        "outputId": "e3d1a137-ea04-4baf-b904-40c239c4464d"
      },
      "execution_count": 15,
      "outputs": [
        {
          "output_type": "stream",
          "name": "stdout",
          "text": [
            "Digite uma palavra:casa\n",
            "Digite um número inteiro:10\n",
            "casa\n",
            "casa\n",
            "casa\n",
            "casa\n",
            "casa\n",
            "casa\n",
            "casa\n",
            "casa\n",
            "casa\n",
            "casa\n"
          ]
        }
      ]
    },
    {
      "cell_type": "code",
      "source": [
        "'''\n",
        "11. Elabore um algoritmo que leia um número de entrada que indicará a quantidade de\n",
        "números a serem lidos. Em seguida, leia n números (conforme o valor informado\n",
        "anteriormente) e imprima a soma e a média aritmética dos números informados.\n",
        "'''\n",
        "n = int(input(\"Quantos números deseja informar?\"))\n",
        "soma = 0\n",
        "for i in range(n):\n",
        "  num = float(input(f\"Digite o {i+1} número\"))\n",
        "  soma += num\n",
        "  media = soma / n\n",
        "  print(f\"Soma =\", soma)\n",
        "  print(f\"Média=\", media)\n"
      ],
      "metadata": {
        "colab": {
          "base_uri": "https://localhost:8080/"
        },
        "id": "nC2YwLcxR_Rd",
        "outputId": "0db3c72a-473c-4790-c7f1-61f9dfd1df48"
      },
      "execution_count": 20,
      "outputs": [
        {
          "output_type": "stream",
          "name": "stdout",
          "text": [
            "Quantos números deseja informar?10\n",
            "Digite o 1 número10\n",
            "Soma = 10.0\n",
            "Média= 1.0\n",
            "Digite o 2 número10\n",
            "Soma = 20.0\n",
            "Média= 2.0\n",
            "Digite o 3 número10\n",
            "Soma = 30.0\n",
            "Média= 3.0\n",
            "Digite o 4 número10\n",
            "Soma = 40.0\n",
            "Média= 4.0\n",
            "Digite o 5 número10\n",
            "Soma = 50.0\n",
            "Média= 5.0\n",
            "Digite o 6 número10\n",
            "Soma = 60.0\n",
            "Média= 6.0\n",
            "Digite o 7 número10\n",
            "Soma = 70.0\n",
            "Média= 7.0\n",
            "Digite o 8 número10\n",
            "Soma = 80.0\n",
            "Média= 8.0\n",
            "Digite o 9 número10\n",
            "Soma = 90.0\n",
            "Média= 9.0\n",
            "Digite o 10 número5\n",
            "Soma = 95.0\n",
            "Média= 9.5\n"
          ]
        }
      ]
    },
    {
      "cell_type": "code",
      "source": [
        "'''\n",
        "12. Elabore um algoritmo que leia um número de entrada que indicará a quantidade de\n",
        "registros a serem lidos (N). Em seguida algoritmo deve solicitar o nome e idade de N\n",
        "pessoas e ao final apresentar o nome da pessoa mais velha.\n",
        "'''\n",
        "n = int(input(\"Quantas pessoas deseja informar?\"))\n",
        "mais_velha_nome = \"\"\n",
        "mais_velho_idade = -1\n",
        "\n",
        "for i in range(n):\n",
        "  nome = input(f\"Digite o nome da {i+1} pessoa:\")\n",
        "  idade = int(input(f\"Digite a idade de {nome}: \"))\n",
        "  if idade > mais_velho_idade:\n",
        "    mais_velho_idade = idade\n",
        "    mais_velha_nome = nome\n",
        "\n",
        "print(f\"A pessoa mais velha é {mais_velha_nome} com {mais_velho_idade} anos.\")"
      ],
      "metadata": {
        "colab": {
          "base_uri": "https://localhost:8080/"
        },
        "id": "kOprdtepR_XT",
        "outputId": "c0d2f62a-0a7c-4968-bf53-b74655d5723e"
      },
      "execution_count": 22,
      "outputs": [
        {
          "output_type": "stream",
          "name": "stdout",
          "text": [
            "Quantas pessoas deseja informar?2\n",
            "Digite o nome da 1 pessoa:gabriel\n",
            "Digite a idade de gabriel: 20\n",
            "Digite o nome da 2 pessoa:helen\n",
            "Digite a idade de helen: 23\n",
            "A pessoa mais velha é helen com 23 anos.\n"
          ]
        }
      ]
    },
    {
      "cell_type": "code",
      "source": [
        "'''\n",
        "13. Elabore um algoritmo que leia um número de entrada que indicará a quantidade de\n",
        "registros a serem lidos (N). Em seguida algoritmo deve solicitar o sexo (M/F) e idade de N\n",
        "pessoas e ao final apresentar a média de idade de ambos os gêneros catalogados.\n",
        "'''\n",
        "n = int(input(\"Quantas pessoas deseja informar?\"))\n",
        "soma_m = soma_f = qtd_m = qtd_f = 0\n",
        "\n",
        "for i in range(n):\n",
        "  sexo = input(f\"Digite o sexo da {i+1} pessoa (M/F): \").upper()\n",
        "  idade = int(input(f\"Digite a idade da {i+1} pessoa: \"))\n",
        "  if sexo == \"M\":\n",
        "    soma_m += idade\n",
        "    qtd_m += 1\n",
        "  elif sexo == \"F\":\n",
        "    soma_f += idade\n",
        "    qtd_f += 1\n",
        "\n",
        "    if qtd_m > 0:\n",
        "      print(\"Média de idade dos homens\", soma_m / qtd_m)\n",
        "    if qtd_f > 0:\n",
        "      print(\"Média de idade das mulheres\", soma_f / qtd_f)"
      ],
      "metadata": {
        "colab": {
          "base_uri": "https://localhost:8080/"
        },
        "id": "4eee2LqdR_d1",
        "outputId": "1e6d2402-f04f-4415-b909-786fc6e7e906"
      },
      "execution_count": 23,
      "outputs": [
        {
          "output_type": "stream",
          "name": "stdout",
          "text": [
            "Quantas pessoas deseja informar?3\n",
            "Digite o sexo da 1 pessoa (M/F): m\n",
            "Digite a idade da 1 pessoa: 20\n",
            "Digite o sexo da 2 pessoa (M/F): m\n",
            "Digite a idade da 2 pessoa: 30\n",
            "Digite o sexo da 3 pessoa (M/F): f\n",
            "Digite a idade da 3 pessoa: 25\n",
            "Média de idade dos homens 25.0\n",
            "Média de idade das mulheres 25.0\n"
          ]
        }
      ]
    },
    {
      "cell_type": "code",
      "source": [
        "'''\n",
        "14. Elabore um algoritmo que solicite ao usuário 10 números reais e ao final apresente o\n",
        "maior e o menor deles.\n",
        "'''\n",
        "numeros = []\n",
        "for i in range(10):\n",
        "  num = float(input(f\"Digite o {i+1} número:\"))\n",
        "  numeros.append(num)\n",
        "print(\"Maior número:\",  max(numeros))\n",
        "print(\"Menor número:\", min(numeros))"
      ],
      "metadata": {
        "colab": {
          "base_uri": "https://localhost:8080/"
        },
        "id": "UUGOsJR6R_j9",
        "outputId": "5ab5caa2-e079-49f8-fb2b-8204097157ac"
      },
      "execution_count": 24,
      "outputs": [
        {
          "output_type": "stream",
          "name": "stdout",
          "text": [
            "Digite o 1 número:5\n",
            "Digite o 2 número:6\n",
            "Digite o 3 número:7\n",
            "Digite o 4 número:8\n",
            "Digite o 5 número:10\n",
            "Digite o 6 número:1\n",
            "Digite o 7 número:5\n",
            "Digite o 8 número:50\n",
            "Digite o 9 número:20\n",
            "Digite o 10 número:40\n",
            "Maior número: 50.0\n",
            "Menor número: 1.0\n"
          ]
        }
      ]
    },
    {
      "cell_type": "code",
      "source": [
        "'''\n",
        "15. Elabore um algoritmo que solicite N números reais e quando o usuário informar o valor\n",
        "nulo 0 (zero) o programa ordene e mostre todos os números informados de forma crescente.\n",
        "'''\n",
        "numeros = []\n",
        "while True:\n",
        "  num = float(input(\"Digite um número (ou5 0 para sair):\"))\n",
        "  if num == 0:\n",
        "    break\n",
        "  numeros.append(num)\n",
        "numeros.sort()\n",
        "print(\"Números em ordem crescente:\", numeros)"
      ],
      "metadata": {
        "colab": {
          "base_uri": "https://localhost:8080/"
        },
        "id": "lQ_izGC_R_q8",
        "outputId": "721c7d20-2c50-4993-b5e1-d52f613012b9"
      },
      "execution_count": 26,
      "outputs": [
        {
          "output_type": "stream",
          "name": "stdout",
          "text": [
            "Digite um número (ou5 0 para sair):10\n",
            "Digite um número (ou5 0 para sair):20\n",
            "Digite um número (ou5 0 para sair):30\n",
            "Digite um número (ou5 0 para sair):40\n",
            "Digite um número (ou5 0 para sair):50\n",
            "Digite um número (ou5 0 para sair):60\n",
            "Digite um número (ou5 0 para sair):70\n",
            "Digite um número (ou5 0 para sair):80\n",
            "Digite um número (ou5 0 para sair):90\n",
            "Digite um número (ou5 0 para sair):100\n",
            "Digite um número (ou5 0 para sair):70\n",
            "Digite um número (ou5 0 para sair):5\n",
            "Digite um número (ou5 0 para sair):0\n",
            "Números em ordem crescente: [5.0, 10.0, 20.0, 30.0, 40.0, 50.0, 60.0, 70.0, 70.0, 80.0, 90.0, 100.0]\n"
          ]
        }
      ]
    },
    {
      "cell_type": "code",
      "source": [
        "\"\"\"\n",
        "16. Escreva um programa que vá solicitando as idades dos alunos da sala até que todos\n",
        "sejam informados (perguntar ao usuário se deseja informar a idade do próximo aluno). Ao\n",
        "final apresentar a idade do mais novo, a idade do mais velho, Quantos alunos têm mais de\n",
        "18 anos, quantos alunos têm até 18 anos, a média aritmética e a mediana.\n",
        "\"\"\"\n",
        "idades = []\n",
        "\n",
        "while True:\n",
        "    idade = int(input(\"Digite a idade do aluno: \"))\n",
        "    idades.append(idade)\n",
        "    continuar = input(\"Deseja informar a idade do próximo aluno? (S/N): \").upper()\n",
        "    if continuar != \"S\":\n",
        "        break\n",
        "\n",
        "mais_novo = min(idades)\n",
        "mais_velho = max(idades)\n",
        "maiores_18 = sum(1 for i in idades if i > 18)\n",
        "ate_18 = sum(1 for i in idades if i <= 18)\n",
        "media = sum(idades) / len(idades)\n",
        "idades_ordenadas = sorted(idades)\n",
        "\n",
        "# Mediana\n",
        "n = len(idades_ordenadas)\n",
        "if n % 2 == 0:\n",
        "    mediana = (idades_ordenadas[n//2 - 1] + idades_ordenadas[n//2]) / 2\n",
        "else:\n",
        "    mediana = idades_ordenadas[n//2]\n",
        "\n",
        "print(\"Mais novo:\", mais_novo)\n",
        "print(\"Mais velho:\", mais_velho)\n",
        "print(\"Alunos com mais de 18 anos:\", maiores_18)\n",
        "print(\"Alunos com até 18 anos:\", ate_18)\n",
        "print(\"Média das idades:\", media)\n",
        "print(\"Mediana das idades:\", mediana)"
      ],
      "metadata": {
        "colab": {
          "base_uri": "https://localhost:8080/"
        },
        "id": "qcJnZxoTR_x8",
        "outputId": "96b44c99-feff-476f-d7d7-b0d3fdb27cea"
      },
      "execution_count": 28,
      "outputs": [
        {
          "output_type": "stream",
          "name": "stdout",
          "text": [
            "Digite a idade do aluno: 20\n",
            "Deseja informar a idade do próximo aluno? (S/N): s\n",
            "Digite a idade do aluno: 30\n",
            "Deseja informar a idade do próximo aluno? (S/N): s\n",
            "Digite a idade do aluno: 50\n",
            "Deseja informar a idade do próximo aluno? (S/N): s\n",
            "Digite a idade do aluno: 60\n",
            "Deseja informar a idade do próximo aluno? (S/N): n\n",
            "Mais novo: 20\n",
            "Mais velho: 60\n",
            "Alunos com mais de 18 anos: 4\n",
            "Alunos com até 18 anos: 0\n",
            "Média das idades: 40.0\n",
            "Mediana das idades: 40.0\n"
          ]
        }
      ]
    }
  ]
}
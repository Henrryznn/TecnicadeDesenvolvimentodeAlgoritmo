{
  "nbformat": 4,
  "nbformat_minor": 0,
  "metadata": {
    "colab": {
      "provenance": [],
      "authorship_tag": "ABX9TyO9XSqMYOs9oX3srMwppZqs",
      "include_colab_link": true
    },
    "kernelspec": {
      "name": "python3",
      "display_name": "Python 3"
    },
    "language_info": {
      "name": "python"
    }
  },
  "cells": [
    {
      "cell_type": "markdown",
      "metadata": {
        "id": "view-in-github",
        "colab_type": "text"
      },
      "source": [
        "<a href=\"https://colab.research.google.com/github/Henrryznn/TecnicadeDesenvolvimentodeAlgoritmo/blob/main/Atvd_lista_tuplas.ipynb\" target=\"_parent\"><img src=\"https://colab.research.google.com/assets/colab-badge.svg\" alt=\"Open In Colab\"/></a>"
      ]
    },
    {
      "cell_type": "markdown",
      "source": [
        "#Disciplina: **Técnicas de Desenvolvimento de Algoritmo**\n",
        "<h2> Nome: Gabriel Henrry Silva de Oliveira<h2>\n",
        "<h2> Ciêcia da Computação <h2>\n",
        "<h2> Exercícios <h2>"
      ],
      "metadata": {
        "id": "r0bvG5ZEVFEI"
      }
    },
    {
      "cell_type": "code",
      "source": [
        "'''TAREFA 1\n",
        "Escreva um programa que solicita que o usuário digite 5 números inteiros e os coloca em uma lista.\n",
        "Quando terminar, imprima a lista.'''\n",
        "\n",
        "numeros = []\n",
        "for i in range(5):\n",
        "    while True:\n",
        "        try:\n",
        "            num = int(input(f\"Digite o {i+1}º número inteiro: \"))\n",
        "            numeros.append(num)\n",
        "            break\n",
        "        except ValueError:\n",
        "            print(\"Entrada inválida. Por favor, digite um número inteiro.\")\n",
        "\n",
        "print(\"A lista de números é:\", numeros)"
      ],
      "metadata": {
        "colab": {
          "base_uri": "https://localhost:8080/"
        },
        "id": "enpzL6V97gJ2",
        "outputId": "8d0f1171-fc76-471e-c21f-cf4e64398ace"
      },
      "execution_count": 1,
      "outputs": [
        {
          "output_type": "stream",
          "name": "stdout",
          "text": [
            "Digite o 1º número inteiro: 5\n",
            "Digite o 2º número inteiro: 2\n",
            "Digite o 3º número inteiro: 6\n",
            "Digite o 4º número inteiro: 8\n",
            "Digite o 5º número inteiro: 10\n",
            "A lista de números é: [5, 2, 6, 8, 10]\n"
          ]
        }
      ]
    },
    {
      "cell_type": "code",
      "source": [
        "'''TAREFA 2\n",
        "Escreva um programa que aplica a função módulo a todos os elementos e uma lista.'''\n",
        "\n",
        "lista_original = [-10, 5, -2, 8, -15]\n",
        "\n",
        "lista_modificada = [abs(elemento) for elemento in lista_original]\n",
        "\n",
        "print(\"Lista original:\", lista_original)\n",
        "print(\"Lista com valores absolutos:\", lista_modificada)"
      ],
      "metadata": {
        "colab": {
          "base_uri": "https://localhost:8080/"
        },
        "id": "gqtuXPiv7gVh",
        "outputId": "0fbc500e-8c8f-4e44-c9f9-5486c3d6001a"
      },
      "execution_count": 2,
      "outputs": [
        {
          "output_type": "stream",
          "name": "stdout",
          "text": [
            "Lista original: [-10, 5, -2, 8, -15]\n",
            "Lista com valores absolutos: [10, 5, 2, 8, 15]\n"
          ]
        }
      ]
    },
    {
      "cell_type": "code",
      "source": [
        "'''TAREFA 3\n",
        "Escreva um programa que apaga todos os elementos negativos de uma lista.'''\n",
        "\n",
        "lista_original = [-10, 5, -2, 8, -15, 0, 20]\n",
        "\n",
        "lista_sem_negativos = [elemento for elemento in lista_original if elemento >= 0]\n",
        "\n",
        "print(\"Lista original:\", lista_original)\n",
        "print(\"Lista sem elementos negativos:\", lista_sem_negativos)"
      ],
      "metadata": {
        "colab": {
          "base_uri": "https://localhost:8080/"
        },
        "id": "BSxstkHT8f0p",
        "outputId": "96effd96-6608-4c5c-9eb2-199d662a6620"
      },
      "execution_count": 3,
      "outputs": [
        {
          "output_type": "stream",
          "name": "stdout",
          "text": [
            "Lista original: [-10, 5, -2, 8, -15, 0, 20]\n",
            "Lista sem elementos negativos: [5, 8, 0, 20]\n"
          ]
        }
      ]
    },
    {
      "cell_type": "code",
      "source": [
        "'''TAREFA 4\n",
        "Faça um programa que solicita uma quantidade indefinida de notas de uma prova (deve parar quando um número negativo for digitado).\n",
        "Armazena em uma lista. Após isso, o programa deve mostrar a média das notas.'''\n",
        "\n",
        "notas = []\n",
        "while True:\n",
        "    try:\n",
        "        nota = float(input(\"Digite uma nota (digite um número negativo para parar): \"))\n",
        "        if nota < 0:\n",
        "            break\n",
        "        notas.append(nota)\n",
        "    except ValueError:\n",
        "        print(\"Entrada inválida. Por favor, digite um número.\")\n",
        "\n",
        "if notas:\n",
        "    media = sum(notas) / len(notas)\n",
        "    print(\"As notas digitadas são:\", notas)\n",
        "    print(\"A média das notas é:\", media)\n",
        "else:\n",
        "    print(\"Nenhuma nota válida foi digitada.\")"
      ],
      "metadata": {
        "colab": {
          "base_uri": "https://localhost:8080/"
        },
        "id": "JD56IOE28gHR",
        "outputId": "1c799d43-116f-4406-c9b7-6f98f3240dc9"
      },
      "execution_count": 4,
      "outputs": [
        {
          "output_type": "stream",
          "name": "stdout",
          "text": [
            "Digite uma nota (digite um número negativo para parar): 10\n",
            "Digite uma nota (digite um número negativo para parar): 5\n",
            "Digite uma nota (digite um número negativo para parar): -5\n",
            "As notas digitadas são: [10.0, 5.0]\n",
            "A média das notas é: 7.5\n"
          ]
        }
      ]
    },
    {
      "cell_type": "code",
      "source": [
        "'''TAREFA 5\n",
        "Faça um programa que solicita uma quantidade indefinida de números positivos (deve parar quando um número negativo for digitado).\n",
        "Armazene-os em duas listas: uma para os números pares; outra para os números ímpares.\n",
        "A seguir, mostre a porcentagem de pares e ímpares digitados.'''\n",
        "\n",
        "pares = []\n",
        "impares = []\n",
        "total_numeros = 0\n",
        "\n",
        "while True:\n",
        "    try:\n",
        "        num = float(input(\"Digite um número positivo (digite um número negativo para parar): \"))\n",
        "        if num < 0:\n",
        "            break\n",
        "        if num >= 0:\n",
        "            total_numeros += 1\n",
        "            if num % 2 == 0:\n",
        "                pares.append(num)\n",
        "            else:\n",
        "                impares.append(num)\n",
        "    except ValueError:\n",
        "        print(\"Entrada inválida. Por favor, digite um número.\")\n",
        "\n",
        "if total_numeros > 0:\n",
        "    porcentagem_pares = (len(pares) / total_numeros) * 100\n",
        "    porcentagem_impares = (len(impares) / total_numeros) * 100\n",
        "\n",
        "    print(\"\\nNúmeros pares:\", pares)\n",
        "    print(\"Números ímpares:\", impares)\n",
        "    print(f\"\\nPorcentagem de números pares: {porcentagem_pares:.2f}%\")\n",
        "    print(f\"Porcentagem de números ímpares: {porcentagem_impares:.2f}%\")\n",
        "else:\n",
        "    print(\"\\nNenhum número positivo válido foi digitado.\")"
      ],
      "metadata": {
        "colab": {
          "base_uri": "https://localhost:8080/"
        },
        "id": "87QXXjer8gTi",
        "outputId": "edb21311-e14c-452e-9b7a-e48f18908140"
      },
      "execution_count": 5,
      "outputs": [
        {
          "output_type": "stream",
          "name": "stdout",
          "text": [
            "Digite um número positivo (digite um número negativo para parar): 5\n",
            "Digite um número positivo (digite um número negativo para parar): 5\n",
            "Digite um número positivo (digite um número negativo para parar): 5\n",
            "Digite um número positivo (digite um número negativo para parar): 5\n",
            "Digite um número positivo (digite um número negativo para parar): -1\n",
            "\n",
            "Números pares: []\n",
            "Números ímpares: [5.0, 5.0, 5.0, 5.0]\n",
            "\n",
            "Porcentagem de números pares: 0.00%\n",
            "Porcentagem de números ímpares: 100.00%\n"
          ]
        }
      ]
    },
    {
      "cell_type": "code",
      "source": [
        "'''TAREFA 6\n",
        "Faça um programa que solicita uma quantidade indefinida de números positivo (deve parar quando um número negativo for digitado).\n",
        "Armazene todos os números digitados em uma lista, sem repetição.'''\n",
        "\n",
        "numeros_unicos = []\n",
        "\n",
        "while True:\n",
        "    try:\n",
        "        num = float(input(\"Digite um número positivo (digite um número negativo para parar): \"))\n",
        "        if num < 0:\n",
        "            break\n",
        "        if num >= 0 and num not in numeros_unicos:\n",
        "            numeros_unicos.append(num)\n",
        "    except ValueError:\n",
        "        print(\"Entrada inválida. Por favor, digite um número.\")\n",
        "\n",
        "print(\"\\nLista de números únicos positivos:\", numeros_unicos)"
      ],
      "metadata": {
        "colab": {
          "base_uri": "https://localhost:8080/"
        },
        "id": "2uCIQukp8gfu",
        "outputId": "1392c12d-8d98-499d-c60e-4885f11a5111"
      },
      "execution_count": 6,
      "outputs": [
        {
          "output_type": "stream",
          "name": "stdout",
          "text": [
            "Digite um número positivo (digite um número negativo para parar): 10\n",
            "Digite um número positivo (digite um número negativo para parar): 25\n",
            "Digite um número positivo (digite um número negativo para parar): 3\n",
            "Digite um número positivo (digite um número negativo para parar): 2\n",
            "Digite um número positivo (digite um número negativo para parar): 1\n",
            "Digite um número positivo (digite um número negativo para parar): -8\n",
            "\n",
            "Lista de números únicos positivos: [10.0, 25.0, 3.0, 2.0, 1.0]\n"
          ]
        }
      ]
    },
    {
      "cell_type": "code",
      "source": [
        "'''TAREFA 7\n",
        "Escreva um programa que solicita que o usuário digite a altura e o peso de 5 pessoas.\n",
        "Verifique se pelo menos duas das pessoas tem a mesma altura e mesmo peso.'''\n",
        "\n",
        "# Programa para verificar se pelo menos duas pessoas têm a mesma altura e o mesmo peso\n",
        "\n",
        "pessoas = []  # Lista para armazenar (altura, peso)\n",
        "\n",
        "for i in range(1, 6):\n",
        "    print(f\"\\nPessoa {i}:\")\n",
        "    altura = float(input(\"Digite a altura (em metros): \"))\n",
        "    peso = float(input(\"Digite o peso (em kg): \"))\n",
        "    pessoas.append((altura, peso))  # Armazena como tupla\n",
        "\n",
        "# Verifica duplicatas\n",
        "duplicado = False\n",
        "for i in range(len(pessoas)):\n",
        "    for j in range(i + 1, len(pessoas)):\n",
        "        if pessoas[i] == pessoas[j]:\n",
        "            duplicado = True\n",
        "            break\n",
        "    if duplicado:\n",
        "        break\n",
        "\n",
        "if duplicado:\n",
        "    print(\"\\nPelo menos duas pessoas têm a mesma altura e o mesmo peso.\")\n",
        "else:\n",
        "    print(\"\\nNenhuma pessoa tem a mesma altura e peso.\")\n"
      ],
      "metadata": {
        "colab": {
          "base_uri": "https://localhost:8080/"
        },
        "id": "jgWZNFdJ8gsh",
        "outputId": "8769fdd9-9412-4775-b5f9-5c4b42589b35"
      },
      "execution_count": 11,
      "outputs": [
        {
          "output_type": "stream",
          "name": "stdout",
          "text": [
            "\n",
            "Pessoa 1:\n",
            "Digite a altura (em metros): 1.80\n",
            "Digite o peso (em kg): 79\n",
            "\n",
            "Pessoa 2:\n",
            "Digite a altura (em metros): 1.90\n",
            "Digite o peso (em kg): 85\n",
            "\n",
            "Pessoa 3:\n",
            "Digite a altura (em metros): 1.80\n",
            "Digite o peso (em kg): 85\n",
            "\n",
            "Pessoa 4:\n",
            "Digite a altura (em metros): 1.80\n",
            "Digite o peso (em kg): 79\n",
            "\n",
            "Pessoa 5:\n",
            "Digite a altura (em metros): 1.75\n",
            "Digite o peso (em kg): 79\n",
            "\n",
            "Pelo menos duas pessoas têm a mesma altura e o mesmo peso.\n"
          ]
        }
      ]
    },
    {
      "cell_type": "code",
      "source": [
        "'''TAREFA 8\n",
        "Faça um programa que solicita que o usuário digite o nome e a idade de diversas pessoas (o programa deve parar quando um nome vazio for informado).\n",
        "Retorne o nome da pessoa mais velha.'''\n",
        "\n",
        "pessoas = []\n",
        "\n",
        "while True:\n",
        "    nome = input(\"Digite o nome da pessoa (deixe em branco para parar): \")\n",
        "    if nome == \"\":\n",
        "        break\n",
        "    while True:\n",
        "        try:\n",
        "            idade = int(input(f\"Digite a idade de {nome}: \"))\n",
        "            pessoas.append({\"nome\": nome, \"idade\": idade})\n",
        "            break\n",
        "        except ValueError:\n",
        "            print(\"Entrada inválida para idade. Por favor, digite um número inteiro.\")\n",
        "\n",
        "if pessoas:\n",
        "    pessoa_mais_velha = pessoas[0]\n",
        "    for pessoa in pessoas:\n",
        "        if pessoa[\"idade\"] > pessoa_mais_velha[\"idade\"]:\n",
        "            pessoa_mais_velha = pessoa\n",
        "    print(f\"\\nA pessoa mais velha é: {pessoa_mais_velha['nome']}\")\n",
        "else:\n",
        "    print(\"\\nNenhuma pessoa foi inserida.\")"
      ],
      "metadata": {
        "colab": {
          "base_uri": "https://localhost:8080/"
        },
        "id": "gzCSnYwD8228",
        "outputId": "5bf00eda-4cdc-47e8-a090-d646acbd4e3b"
      },
      "execution_count": 12,
      "outputs": [
        {
          "output_type": "stream",
          "name": "stdout",
          "text": [
            "Digite o nome da pessoa (deixe em branco para parar): amanda\n",
            "Digite a idade de amanda: 87\n",
            "Digite o nome da pessoa (deixe em branco para parar): fernando \n",
            "Digite a idade de fernando : 86\n",
            "Digite o nome da pessoa (deixe em branco para parar): joão\n",
            "Digite a idade de joão: 67\n",
            "Digite o nome da pessoa (deixe em branco para parar): joana\n",
            "Digite a idade de joana: 69\n",
            "Digite o nome da pessoa (deixe em branco para parar): vera\n",
            "Digite a idade de vera: 78\n",
            "Digite o nome da pessoa (deixe em branco para parar): \n",
            "\n",
            "A pessoa mais velha é: amanda\n"
          ]
        }
      ]
    },
    {
      "cell_type": "markdown",
      "source": [
        "<h2> Exercícios 2 <h2>"
      ],
      "metadata": {
        "id": "JMSk8LTmTpoA"
      }
    },
    {
      "cell_type": "code",
      "source": [
        "'''TAREFA 1\n",
        "Dado o dicionário ao lado, imprima os\n",
        "seguintes dados:\n",
        "alunos = {\n",
        "\"Alice\": 8.5,\n",
        "\"Bruno\": 7.8,\n",
        "\"Carla\": 9.2,\n",
        "\"Diego\": 6.9,\n",
        "\"Eva\": 8.0,\n",
        "\"Fernando\": 7.5,\n",
        "\"Gabriela\": 9.0,\n",
        "\"Henrique\": 6.7,\n",
        "\"Isabela\": 8.3,\n",
        "\"João\": 7.2\n",
        "}\n",
        "Quantos alunos existem?\n",
        "Alguém tirou nota zero?\n",
        "Qual foi a menor nota?\n",
        "Qual foi a maior nota?'''\n",
        "\n",
        "alunos = {\n",
        "    \"Alice\": 8.5,\n",
        "    \"Bruno\": 7.8,\n",
        "    \"Carla\": 9.2,\n",
        "    \"Diego\": 6.9,\n",
        "    \"Eva\": 8.0,\n",
        "    \"Fernando\": 7.5,\n",
        "    \"Gabriela\": 9.0,\n",
        "    \"Henrique\": 6.7,\n",
        "    \"Isabela\": 8.3,\n",
        "    \"João\": 7.2\n",
        "}\n",
        "\n",
        "quantidade = len(alunos)\n",
        "\n",
        "tem_nota_zero = 0 in alunos.values()\n",
        "\n",
        "menor_nota = min(alunos.values())\n",
        "maior_nota = max(alunos.values())\n",
        "\n",
        "print(f\"Quantidade de alunos: {quantidade}\")\n",
        "print(f\"Alguém tirou nota zero? {'Sim' if tem_nota_zero else 'Não'}\")\n",
        "print(f\"Menor nota: {menor_nota}\")\n",
        "print(f\"Maior nota: {maior_nota}\")\n"
      ],
      "metadata": {
        "colab": {
          "base_uri": "https://localhost:8080/"
        },
        "id": "PA6FJdf6Uzaj",
        "outputId": "c3c7728d-4cb5-4db6-ef56-16480346eb2c"
      },
      "execution_count": 13,
      "outputs": [
        {
          "output_type": "stream",
          "name": "stdout",
          "text": [
            "Quantidade de alunos: 10\n",
            "Alguém tirou nota zero? Não\n",
            "Menor nota: 6.7\n",
            "Maior nota: 9.2\n"
          ]
        }
      ]
    },
    {
      "cell_type": "code",
      "source": [
        "'''Dado o dicionário ao lado:\n",
        "animes = { \"Naruto\": 220,\n",
        "\"Jujutsu Kaisen\": 47, \"Dragon Ball Z\": 291, \"Death Note\": 37,\n",
        "\"Fullmetal Alchemist\": 64,\n",
        "\"Evangelion\": 26,\n",
        "\"Berserk\": 25,\n",
        "\"Code Geass\": 50, \"Akame ga Kill!\": 24, \"Elfen Lied\": 13\n",
        "}\n",
        "Imprima o total de episódios\n",
        "Substitua a quantidade de episódios pelo\n",
        "percentual (ep_anime/ep_total)\n",
        "Imprima nome e percentual de cada\n",
        "anime, em ordem decrescente de\n",
        "percentual'''\n",
        "\n",
        "# Dicionário com animes e quantidade de episódios\n",
        "animes = {\n",
        "    \"Naruto\": 220,\n",
        "    \"Jujutsu Kaisen\": 47,\n",
        "    \"Dragon Ball Z\": 291,\n",
        "    \"Death Note\": 37,\n",
        "    \"Fullmetal Alchemist\": 64,\n",
        "    \"Evangelion\": 26,\n",
        "    \"Berserk\": 25,\n",
        "    \"Code Geass\": 50,\n",
        "    \"Akame ga Kill!\": 24,\n",
        "    \"Elfen Lied\": 13\n",
        "}\n",
        "\n",
        "ep_total = sum(animes.values())\n",
        "print(f\"Total de episódios: {ep_total}\\n\")\n",
        "\n",
        "for anime in animes:\n",
        "    animes[anime] = (animes[anime] / ep_total) * 100\n",
        "\n",
        "animes_ordenados = dict(sorted(animes.items(), key=lambda x: x[1], reverse=True))\n",
        "\n",
        "print(\"Percentual de episódios por anime (ordem decrescente):\\n\")\n",
        "for nome, percentual in animes_ordenados.items():\n",
        "    print(f\"{nome}: {percentual:.2f}%\")\n"
      ],
      "metadata": {
        "colab": {
          "base_uri": "https://localhost:8080/"
        },
        "id": "5WAAoG3IVniS",
        "outputId": "c809b853-d8b3-43de-f086-4917710a41ad"
      },
      "execution_count": 14,
      "outputs": [
        {
          "output_type": "stream",
          "name": "stdout",
          "text": [
            "Total de episódios: 797\n",
            "\n",
            "Percentual de episódios por anime (ordem decrescente):\n",
            "\n",
            "Dragon Ball Z: 36.51%\n",
            "Naruto: 27.60%\n",
            "Fullmetal Alchemist: 8.03%\n",
            "Code Geass: 6.27%\n",
            "Jujutsu Kaisen: 5.90%\n",
            "Death Note: 4.64%\n",
            "Evangelion: 3.26%\n",
            "Berserk: 3.14%\n",
            "Akame ga Kill!: 3.01%\n",
            "Elfen Lied: 1.63%\n"
          ]
        }
      ]
    },
    {
      "cell_type": "code",
      "source": [
        "'''Dado o dicionário ao lado:\n",
        "bandas = {\n",
        "\"Gangrena Gasosa\": [\n",
        "{\"álbum\": \"Gente Ruim Só Manda Lembrança Pra Quem Não Presta\", \"ano\":\n",
        "2019},\n",
        "{\"álbum\": \"Se Deus É 10, Satanás É 666\", \"ano\": 1999},\n",
        "{\"álbum\": \"Welcome to the Macumba\", \"ano\": 1993}\n",
        "],\n",
        "\"Rogério Skylab\": [\n",
        "{\"álbum\": \"Nas Portas do Cu\", \"ano\": 2023},\n",
        "{\"álbum\": \"Crítica da Faculdade do Cu\", \"ano\": 2021},\n",
        "{\"álbum\": \"Cosmos\", \"ano\": 2019}\n",
        "],\n",
        "\"Garotos Podres\": [\n",
        "{\"álbum\": \"Canções para Ninar\", \"ano\": 2003},\n",
        "{\"álbum\": \"Com a Corda Toda\", \"ano\": 1997},\n",
        "{\"álbum\": \"Rock de Subúrbio\", \"ano\": 1995}\n",
        "],\n",
        "\"Massacration\": [\n",
        "{\"álbum\": \"Live Metal Espancation\", \"ano\": 2017},\n",
        "{\"álbum\": \"Good Blood Headbanguers\", \"ano\": 2009},\n",
        "{\"álbum\": \"Gates of Metal Fried Chicken of Death\", \"ano\": 2005}\n",
        "],\n",
        "\"Raimundos\": [\n",
        "{\"álbum\": \"Cantigas de Roda\", \"ano\": 2014},\n",
        "{\"álbum\": \"Roda Viva\", \"ano\": 2006},\n",
        "{\"álbum\": \"Éramos 4\", \"ano\": 2001}\n",
        "]\n",
        "}\n",
        "Imprima o álbum mais antigo\n",
        "imprima a banda que tem o maior\n",
        "intervalo entre os álbuns\n",
        "Imprima todos os álbuns do mais novo\n",
        "para o mais antigo, dizendo também o\n",
        "nome da banda'''\n",
        "\n",
        "bandas = {\n",
        "    \"Gangrena Gasosa\": [\n",
        "        {\"álbum\": \"Gente Ruim Só Manda Lembrança Pra Quem Não Presta\", \"ano\": 2019},\n",
        "        {\"álbum\": \"Se Deus É 10, Satanás É 666\", \"ano\": 1999},\n",
        "        {\"álbum\": \"Welcome to the Macumba\", \"ano\": 1993}\n",
        "    ],\n",
        "    \"Rogério Skylab\": [\n",
        "        {\"álbum\": \"Nas Portas do Cu\", \"ano\": 2023},\n",
        "        {\"álbum\": \"Crítica da Faculdade do Cu\", \"ano\": 2021},\n",
        "        {\"álbum\": \"Cosmos\", \"ano\": 2019}\n",
        "    ],\n",
        "    \"Garotos Podres\": [\n",
        "        {\"álbum\": \"Canções para Ninar\", \"ano\": 2003},\n",
        "        {\"álbum\": \"Com a Corda Toda\", \"ano\": 1997},\n",
        "        {\"álbum\": \"Rock de Subúrbio\", \"ano\": 1995}\n",
        "    ],\n",
        "    \"Massacration\": [\n",
        "        {\"álbum\": \"Live Metal Espancation\", \"ano\": 2017},\n",
        "        {\"álbum\": \"Good Blood Headbanguers\", \"ano\": 2009},\n",
        "        {\"álbum\": \"Gates of Metal Fried Chicken of Death\", \"ano\": 2005}\n",
        "    ],\n",
        "    \"Raimundos\": [\n",
        "        {\"álbum\": \"Cantigas de Roda\", \"ano\": 2014},\n",
        "        {\"álbum\": \"Roda Viva\", \"ano\": 2006},\n",
        "        {\"álbum\": \"Éramos 4\", \"ano\": 2001}\n",
        "    ]\n",
        "}\n",
        "\n",
        "album_mais_antigo = None\n",
        "ano_mais_antigo = float('inf')\n",
        "\n",
        "for banda, albuns in bandas.items():\n",
        "    for album in albuns:\n",
        "        if album[\"ano\"] < ano_mais_antigo:\n",
        "            ano_mais_antigo = album[\"ano\"]\n",
        "            album_mais_antigo = (banda, album[\"álbum\"], album[\"ano\"])\n",
        "\n",
        "print(f\"🎵 Álbum mais antigo: '{album_mais_antigo[1]}' de {album_mais_antigo[0]} ({album_mais_antigo[2]})\\n\")\n",
        "\n",
        "maior_intervalo = 0\n",
        "banda_maior_intervalo = \"\"\n",
        "\n",
        "for banda, albuns in bandas.items():\n",
        "    anos = [a[\"ano\"] for a in albuns]\n",
        "    intervalo = max(anos) - min(anos)\n",
        "    if intervalo > maior_intervalo:\n",
        "        maior_intervalo = intervalo\n",
        "        banda_maior_intervalo = banda\n",
        "\n",
        "print(f\"🎸 Banda com maior intervalo entre álbuns: {banda_maior_intervalo} ({maior_intervalo} anos)\\n\")\n",
        "\n",
        "todos_albuns = []\n",
        "for banda, albuns in bandas.items():\n",
        "    for album in albuns:\n",
        "        todos_albuns.append((album[\"ano\"], album[\"álbum\"], banda))\n",
        "\n",
        "todos_albuns.sort(reverse=True)\n",
        "\n",
        "print(\"📀 Todos os álbuns do mais novo para o mais antigo:\\n\")\n",
        "for ano, album, banda in todos_albuns:\n",
        "    print(f\"{ano} - '{album}' ({banda})\")\n"
      ],
      "metadata": {
        "colab": {
          "base_uri": "https://localhost:8080/"
        },
        "id": "L3KWZNhRVnv8",
        "outputId": "bb244ffe-1473-47d9-f833-d61bef41c74d"
      },
      "execution_count": 15,
      "outputs": [
        {
          "output_type": "stream",
          "name": "stdout",
          "text": [
            "🎵 Álbum mais antigo: 'Welcome to the Macumba' de Gangrena Gasosa (1993)\n",
            "\n",
            "🎸 Banda com maior intervalo entre álbuns: Gangrena Gasosa (26 anos)\n",
            "\n",
            "📀 Todos os álbuns do mais novo para o mais antigo:\n",
            "\n",
            "2023 - 'Nas Portas do Cu' (Rogério Skylab)\n",
            "2021 - 'Crítica da Faculdade do Cu' (Rogério Skylab)\n",
            "2019 - 'Gente Ruim Só Manda Lembrança Pra Quem Não Presta' (Gangrena Gasosa)\n",
            "2019 - 'Cosmos' (Rogério Skylab)\n",
            "2017 - 'Live Metal Espancation' (Massacration)\n",
            "2014 - 'Cantigas de Roda' (Raimundos)\n",
            "2009 - 'Good Blood Headbanguers' (Massacration)\n",
            "2006 - 'Roda Viva' (Raimundos)\n",
            "2005 - 'Gates of Metal Fried Chicken of Death' (Massacration)\n",
            "2003 - 'Canções para Ninar' (Garotos Podres)\n",
            "2001 - 'Éramos 4' (Raimundos)\n",
            "1999 - 'Se Deus É 10, Satanás É 666' (Gangrena Gasosa)\n",
            "1997 - 'Com a Corda Toda' (Garotos Podres)\n",
            "1995 - 'Rock de Subúrbio' (Garotos Podres)\n",
            "1993 - 'Welcome to the Macumba' (Gangrena Gasosa)\n"
          ]
        }
      ]
    }
  ]
}